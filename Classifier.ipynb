{
 "cells": [
  {
   "cell_type": "code",
   "execution_count": 3,
   "metadata": {
    "collapsed": true,
    "pycharm": {
     "name": "#%%\n"
    }
   },
   "outputs": [
    {
     "data": {
      "text/plain": "Unnamed: 0             int64\nID                    object\nSeverity               int64\nZipcode               object\nSunrise_Sunset        object\nTemperature(F)       float64\nHumidity(%)          float64\nPressure(in)         float64\nVisibility(mi)       float64\nWind_Speed(mph)      float64\nPrecipitation(in)    float64\nWeather_Condition     object\ndtype: object"
     },
     "execution_count": 3,
     "metadata": {},
     "output_type": "execute_result"
    }
   ],
   "source": [
    "import pandas as pd\n",
    "\n",
    "input_file = 'dataset/f10000_valid_data.csv'\n",
    "df = pd.read_csv(input_file)\n",
    "df.dtypes"
   ]
  },
  {
   "cell_type": "code",
   "execution_count": 6,
   "outputs": [
    {
     "data": {
      "text/plain": "dtype('int64')"
     },
     "execution_count": 6,
     "metadata": {},
     "output_type": "execute_result"
    }
   ],
   "source": [
    "df['Unnamed: 0'].dtypes"
   ],
   "metadata": {
    "collapsed": false,
    "pycharm": {
     "name": "#%%\n"
    }
   }
  },
  {
   "cell_type": "code",
   "execution_count": 7,
   "outputs": [
    {
     "name": "stdout",
     "output_type": "stream",
     "text": [
      "<class 'pandas.core.frame.DataFrame'>\n",
      "RangeIndex: 10001 entries, 0 to 10000\n",
      "Data columns (total 12 columns):\n",
      " #   Column             Non-Null Count  Dtype  \n",
      "---  ------             --------------  -----  \n",
      " 0   Unnamed: 0         10001 non-null  int64  \n",
      " 1   ID                 10001 non-null  object \n",
      " 2   Severity           10001 non-null  int64  \n",
      " 3   Zipcode            9995 non-null   object \n",
      " 4   Sunrise_Sunset     10001 non-null  object \n",
      " 5   Temperature(F)     9887 non-null   float64\n",
      " 6   Humidity(%)        9876 non-null   float64\n",
      " 7   Pressure(in)       9891 non-null   float64\n",
      " 8   Visibility(mi)     9859 non-null   float64\n",
      " 9   Wind_Speed(mph)    8352 non-null   float64\n",
      " 10  Precipitation(in)  593 non-null    float64\n",
      " 11  Weather_Condition  9886 non-null   object \n",
      "dtypes: float64(6), int64(2), object(4)\n",
      "memory usage: 937.7+ KB\n"
     ]
    }
   ],
   "source": [
    "import numpy as np\n",
    "df.info()"
   ],
   "metadata": {
    "collapsed": false,
    "pycharm": {
     "name": "#%%\n"
    }
   }
  },
  {
   "cell_type": "code",
   "execution_count": 8,
   "outputs": [
    {
     "name": "stdout",
     "output_type": "stream",
     "text": [
      "<class 'pandas.core.frame.DataFrame'>\n",
      "RangeIndex: 10001 entries, 0 to 10000\n",
      "Data columns (total 10 columns):\n",
      " #   Column             Non-Null Count  Dtype  \n",
      "---  ------             --------------  -----  \n",
      " 0   Severity           10001 non-null  int64  \n",
      " 1   Zipcode            9995 non-null   object \n",
      " 2   Sunrise_Sunset     10001 non-null  object \n",
      " 3   Temperature(F)     9887 non-null   float64\n",
      " 4   Humidity(%)        9876 non-null   float64\n",
      " 5   Pressure(in)       9891 non-null   float64\n",
      " 6   Visibility(mi)     9859 non-null   float64\n",
      " 7   Wind_Speed(mph)    8352 non-null   float64\n",
      " 8   Precipitation(in)  593 non-null    float64\n",
      " 9   Weather_Condition  9886 non-null   object \n",
      "dtypes: float64(6), int64(1), object(3)\n",
      "memory usage: 781.5+ KB\n"
     ]
    }
   ],
   "source": [
    "feature_list = ['Severity', 'Zipcode', 'Sunrise_Sunset', 'Temperature(F)', 'Humidity(%)', 'Pressure(in)', 'Visibility(mi)', 'Wind_Speed(mph)', 'Precipitation(in)', 'Weather_Condition']\n",
    "df_sel = df[feature_list].copy()\n",
    "df_sel.info()"
   ],
   "metadata": {
    "collapsed": false,
    "pycharm": {
     "name": "#%%\n"
    }
   }
  },
  {
   "cell_type": "code",
   "execution_count": 9,
   "outputs": [
    {
     "name": "stdout",
     "output_type": "stream",
     "text": [
      "<class 'pandas.core.frame.DataFrame'>\n",
      "RangeIndex: 10001 entries, 0 to 10000\n",
      "Data columns (total 12 columns):\n",
      " #   Column             Non-Null Count  Dtype  \n",
      "---  ------             --------------  -----  \n",
      " 0   Unnamed: 0         10001 non-null  int64  \n",
      " 1   ID                 10001 non-null  object \n",
      " 2   Severity           10001 non-null  int64  \n",
      " 3   Zipcode            9995 non-null   object \n",
      " 4   Sunrise_Sunset     10001 non-null  object \n",
      " 5   Temperature(F)     9887 non-null   float64\n",
      " 6   Humidity(%)        9876 non-null   float64\n",
      " 7   Pressure(in)       9891 non-null   float64\n",
      " 8   Visibility(mi)     9859 non-null   float64\n",
      " 9   Wind_Speed(mph)    8352 non-null   float64\n",
      " 10  Precipitation(in)  593 non-null    float64\n",
      " 11  Weather_Condition  9886 non-null   object \n",
      "dtypes: float64(6), int64(2), object(4)\n",
      "memory usage: 937.7+ KB\n"
     ]
    }
   ],
   "source": [
    "feature_list = ['Severity', 'Zipcode', 'Sunrise_Sunset', 'Temperature(F)', 'Humidity(%)', 'Pressure(in)', 'Visibility(mi)', 'Wind_Speed(mph)', 'Weather_Condition']\n",
    "df_sel = df[feature_list].copy()\n",
    "df.info()"
   ],
   "metadata": {
    "collapsed": false,
    "pycharm": {
     "name": "#%%\n"
    }
   }
  },
  {
   "cell_type": "code",
   "execution_count": 10,
   "outputs": [
    {
     "name": "stdout",
     "output_type": "stream",
     "text": [
      "<class 'pandas.core.frame.DataFrame'>\n",
      "RangeIndex: 10001 entries, 0 to 10000\n",
      "Data columns (total 9 columns):\n",
      " #   Column             Non-Null Count  Dtype  \n",
      "---  ------             --------------  -----  \n",
      " 0   Severity           10001 non-null  int64  \n",
      " 1   Zipcode            9995 non-null   object \n",
      " 2   Sunrise_Sunset     10001 non-null  object \n",
      " 3   Temperature(F)     9887 non-null   float64\n",
      " 4   Humidity(%)        9876 non-null   float64\n",
      " 5   Pressure(in)       9891 non-null   float64\n",
      " 6   Visibility(mi)     9859 non-null   float64\n",
      " 7   Wind_Speed(mph)    8352 non-null   float64\n",
      " 8   Weather_Condition  9886 non-null   object \n",
      "dtypes: float64(5), int64(1), object(3)\n",
      "memory usage: 703.3+ KB\n"
     ]
    }
   ],
   "source": [
    "df_sel.info()"
   ],
   "metadata": {
    "collapsed": false,
    "pycharm": {
     "name": "#%%\n"
    }
   }
  },
  {
   "cell_type": "code",
   "execution_count": 11,
   "outputs": [
    {
     "data": {
      "text/plain": "Severity             0.000000\nZipcode              0.000600\nSunrise_Sunset       0.000000\nTemperature(F)       0.011399\nHumidity(%)          0.012499\nPressure(in)         0.010999\nVisibility(mi)       0.014199\nWind_Speed(mph)      0.164884\nWeather_Condition    0.011499\ndtype: float64"
     },
     "execution_count": 11,
     "metadata": {},
     "output_type": "execute_result"
    }
   ],
   "source": [
    "df_sel.isnull().mean()"
   ],
   "metadata": {
    "collapsed": false,
    "pycharm": {
     "name": "#%%\n"
    }
   }
  },
  {
   "cell_type": "code",
   "execution_count": 12,
   "outputs": [
    {
     "data": {
      "text/plain": "(8255, 9)"
     },
     "execution_count": 12,
     "metadata": {},
     "output_type": "execute_result"
    }
   ],
   "source": [
    "df_sel.dropna(subset=df_sel.columns[df_sel.isnull().mean() != 0], how='any', axis=0, inplace=True)\n",
    "df_sel.shape"
   ],
   "metadata": {
    "collapsed": false,
    "pycharm": {
     "name": "#%%\n"
    }
   }
  },
  {
   "cell_type": "code",
   "execution_count": 13,
   "outputs": [
    {
     "name": "stdout",
     "output_type": "stream",
     "text": [
      "<class 'pandas.core.frame.DataFrame'>\n",
      "Int64Index: 8255 entries, 0 to 10000\n",
      "Data columns (total 9 columns):\n",
      " #   Column             Non-Null Count  Dtype  \n",
      "---  ------             --------------  -----  \n",
      " 0   Severity           8255 non-null   int64  \n",
      " 1   Zipcode            8255 non-null   object \n",
      " 2   Sunrise_Sunset     8255 non-null   object \n",
      " 3   Temperature(F)     8255 non-null   float64\n",
      " 4   Humidity(%)        8255 non-null   float64\n",
      " 5   Pressure(in)       8255 non-null   float64\n",
      " 6   Visibility(mi)     8255 non-null   float64\n",
      " 7   Wind_Speed(mph)    8255 non-null   float64\n",
      " 8   Weather_Condition  8255 non-null   object \n",
      "dtypes: float64(5), int64(1), object(3)\n",
      "memory usage: 644.9+ KB\n"
     ]
    }
   ],
   "source": [
    "df_sel.info()"
   ],
   "metadata": {
    "collapsed": false,
    "pycharm": {
     "name": "#%%\n"
    }
   }
  },
  {
   "cell_type": "code",
   "execution_count": 14,
   "outputs": [
    {
     "name": "stdout",
     "output_type": "stream",
     "text": [
      "0        3\n",
      "4        3\n",
      "5        2\n",
      "6        2\n",
      "7        2\n",
      "        ..\n",
      "9996     2\n",
      "9997     2\n",
      "9998     2\n",
      "9999     2\n",
      "10000    2\n",
      "Name: Severity, Length: 8255, dtype: int64\n"
     ]
    }
   ],
   "source": [
    "target = 'Severity'\n",
    "\n",
    "X = df_sel.drop(target, axis=1)\n",
    "Y = df_sel[target]\n",
    "\n",
    "print(Y)"
   ],
   "metadata": {
    "collapsed": false,
    "pycharm": {
     "name": "#%%\n"
    }
   }
  },
  {
   "cell_type": "code",
   "execution_count": 15,
   "outputs": [
    {
     "name": "stdout",
     "output_type": "stream",
     "text": [
      "      Zipcode Sunrise_Sunset  Temperature(F)  Humidity(%)  Pressure(in)  \\\n",
      "0       43017          Night            42.1         58.0         29.76   \n",
      "4       45217            Day            37.0         93.0         29.69   \n",
      "5       45176            Day            35.6        100.0         29.66   \n",
      "6       45404            Day            33.8        100.0         29.63   \n",
      "7       44130            Day            33.1         92.0         29.63   \n",
      "...       ...            ...             ...          ...           ...   \n",
      "9996    92801            Day            68.0         52.0         30.06   \n",
      "9997    91343            Day            64.9         56.0         30.05   \n",
      "9998    92708            Day            64.9         61.0         30.07   \n",
      "9999    92029            Day            63.0         72.0         30.06   \n",
      "10000   92021            Day            66.2         56.0         30.07   \n",
      "\n",
      "       Visibility(mi)  Wind_Speed(mph) Weather_Condition  \n",
      "0                10.0             10.4        Light Rain  \n",
      "4                10.0             10.4        Light Rain  \n",
      "5                10.0              8.1          Overcast  \n",
      "6                 3.0              2.3     Mostly Cloudy  \n",
      "7                 0.5              3.5              Snow  \n",
      "...               ...              ...               ...  \n",
      "9996             10.0              3.5     Mostly Cloudy  \n",
      "9997             10.0              3.5     Partly Cloudy  \n",
      "9998             10.0              6.9     Mostly Cloudy  \n",
      "9999             10.0              5.8          Overcast  \n",
      "10000            10.0              5.8          Overcast  \n",
      "\n",
      "[8255 rows x 8 columns]\n"
     ]
    }
   ],
   "source": [
    "print(X)"
   ],
   "metadata": {
    "collapsed": false,
    "pycharm": {
     "name": "#%%\n"
    }
   }
  },
  {
   "cell_type": "code",
   "execution_count": 16,
   "outputs": [],
   "source": [
    "from sklearn.model_selection import train_test_split\n",
    "\n",
    "x_train, x_test, y_train, y_test = train_test_split(X, Y, test_size=0.33, random_state=42)"
   ],
   "metadata": {
    "collapsed": false,
    "pycharm": {
     "name": "#%%\n"
    }
   }
  },
  {
   "cell_type": "code",
   "execution_count": 17,
   "outputs": [
    {
     "ename": "ValueError",
     "evalue": "could not convert string to float: '91390-1164'",
     "output_type": "error",
     "traceback": [
      "\u001B[0;31m---------------------------------------------------------------------------\u001B[0m",
      "\u001B[0;31mValueError\u001B[0m                                Traceback (most recent call last)",
      "Cell \u001B[0;32mIn [17], line 8\u001B[0m\n\u001B[1;32m      5\u001B[0m \u001B[38;5;28;01mfrom\u001B[39;00m \u001B[38;5;21;01msklearn\u001B[39;00m \u001B[38;5;28;01mimport\u001B[39;00m metrics\n\u001B[1;32m      7\u001B[0m lr \u001B[38;5;241m=\u001B[39m LogisticRegression(random_state\u001B[38;5;241m=\u001B[39m\u001B[38;5;241m42\u001B[39m)\n\u001B[0;32m----> 8\u001B[0m \u001B[43mlr\u001B[49m\u001B[38;5;241;43m.\u001B[39;49m\u001B[43mfit\u001B[49m\u001B[43m(\u001B[49m\u001B[43mx_train\u001B[49m\u001B[43m,\u001B[49m\u001B[43m \u001B[49m\u001B[43my_train\u001B[49m\u001B[43m)\u001B[49m\n\u001B[1;32m      9\u001B[0m y_pred \u001B[38;5;241m=\u001B[39m lr\u001B[38;5;241m.\u001B[39mpredict(x_test)\n\u001B[1;32m     11\u001B[0m acc \u001B[38;5;241m=\u001B[39m metrics\u001B[38;5;241m.\u001B[39maccuracy_score(y_test, y_pred)\n",
      "File \u001B[0;32m~/Documents/18755/Project/Group Project/Car-Accidents-Network/env/lib/python3.10/site-packages/sklearn/linear_model/_logistic.py:1138\u001B[0m, in \u001B[0;36mLogisticRegression.fit\u001B[0;34m(self, X, y, sample_weight)\u001B[0m\n\u001B[1;32m   1135\u001B[0m \u001B[38;5;28;01melse\u001B[39;00m:\n\u001B[1;32m   1136\u001B[0m     _dtype \u001B[38;5;241m=\u001B[39m [np\u001B[38;5;241m.\u001B[39mfloat64, np\u001B[38;5;241m.\u001B[39mfloat32]\n\u001B[0;32m-> 1138\u001B[0m X, y \u001B[38;5;241m=\u001B[39m \u001B[38;5;28;43mself\u001B[39;49m\u001B[38;5;241;43m.\u001B[39;49m\u001B[43m_validate_data\u001B[49m\u001B[43m(\u001B[49m\n\u001B[1;32m   1139\u001B[0m \u001B[43m    \u001B[49m\u001B[43mX\u001B[49m\u001B[43m,\u001B[49m\n\u001B[1;32m   1140\u001B[0m \u001B[43m    \u001B[49m\u001B[43my\u001B[49m\u001B[43m,\u001B[49m\n\u001B[1;32m   1141\u001B[0m \u001B[43m    \u001B[49m\u001B[43maccept_sparse\u001B[49m\u001B[38;5;241;43m=\u001B[39;49m\u001B[38;5;124;43m\"\u001B[39;49m\u001B[38;5;124;43mcsr\u001B[39;49m\u001B[38;5;124;43m\"\u001B[39;49m\u001B[43m,\u001B[49m\n\u001B[1;32m   1142\u001B[0m \u001B[43m    \u001B[49m\u001B[43mdtype\u001B[49m\u001B[38;5;241;43m=\u001B[39;49m\u001B[43m_dtype\u001B[49m\u001B[43m,\u001B[49m\n\u001B[1;32m   1143\u001B[0m \u001B[43m    \u001B[49m\u001B[43morder\u001B[49m\u001B[38;5;241;43m=\u001B[39;49m\u001B[38;5;124;43m\"\u001B[39;49m\u001B[38;5;124;43mC\u001B[39;49m\u001B[38;5;124;43m\"\u001B[39;49m\u001B[43m,\u001B[49m\n\u001B[1;32m   1144\u001B[0m \u001B[43m    \u001B[49m\u001B[43maccept_large_sparse\u001B[49m\u001B[38;5;241;43m=\u001B[39;49m\u001B[43msolver\u001B[49m\u001B[43m \u001B[49m\u001B[38;5;129;43;01mnot\u001B[39;49;00m\u001B[43m \u001B[49m\u001B[38;5;129;43;01min\u001B[39;49;00m\u001B[43m \u001B[49m\u001B[43m[\u001B[49m\u001B[38;5;124;43m\"\u001B[39;49m\u001B[38;5;124;43mliblinear\u001B[39;49m\u001B[38;5;124;43m\"\u001B[39;49m\u001B[43m,\u001B[49m\u001B[43m \u001B[49m\u001B[38;5;124;43m\"\u001B[39;49m\u001B[38;5;124;43msag\u001B[39;49m\u001B[38;5;124;43m\"\u001B[39;49m\u001B[43m,\u001B[49m\u001B[43m \u001B[49m\u001B[38;5;124;43m\"\u001B[39;49m\u001B[38;5;124;43msaga\u001B[39;49m\u001B[38;5;124;43m\"\u001B[39;49m\u001B[43m]\u001B[49m\u001B[43m,\u001B[49m\n\u001B[1;32m   1145\u001B[0m \u001B[43m\u001B[49m\u001B[43m)\u001B[49m\n\u001B[1;32m   1146\u001B[0m check_classification_targets(y)\n\u001B[1;32m   1147\u001B[0m \u001B[38;5;28mself\u001B[39m\u001B[38;5;241m.\u001B[39mclasses_ \u001B[38;5;241m=\u001B[39m np\u001B[38;5;241m.\u001B[39munique(y)\n",
      "File \u001B[0;32m~/Documents/18755/Project/Group Project/Car-Accidents-Network/env/lib/python3.10/site-packages/sklearn/base.py:596\u001B[0m, in \u001B[0;36mBaseEstimator._validate_data\u001B[0;34m(self, X, y, reset, validate_separately, **check_params)\u001B[0m\n\u001B[1;32m    594\u001B[0m         y \u001B[38;5;241m=\u001B[39m check_array(y, input_name\u001B[38;5;241m=\u001B[39m\u001B[38;5;124m\"\u001B[39m\u001B[38;5;124my\u001B[39m\u001B[38;5;124m\"\u001B[39m, \u001B[38;5;241m*\u001B[39m\u001B[38;5;241m*\u001B[39mcheck_y_params)\n\u001B[1;32m    595\u001B[0m     \u001B[38;5;28;01melse\u001B[39;00m:\n\u001B[0;32m--> 596\u001B[0m         X, y \u001B[38;5;241m=\u001B[39m \u001B[43mcheck_X_y\u001B[49m\u001B[43m(\u001B[49m\u001B[43mX\u001B[49m\u001B[43m,\u001B[49m\u001B[43m \u001B[49m\u001B[43my\u001B[49m\u001B[43m,\u001B[49m\u001B[43m \u001B[49m\u001B[38;5;241;43m*\u001B[39;49m\u001B[38;5;241;43m*\u001B[39;49m\u001B[43mcheck_params\u001B[49m\u001B[43m)\u001B[49m\n\u001B[1;32m    597\u001B[0m     out \u001B[38;5;241m=\u001B[39m X, y\n\u001B[1;32m    599\u001B[0m \u001B[38;5;28;01mif\u001B[39;00m \u001B[38;5;129;01mnot\u001B[39;00m no_val_X \u001B[38;5;129;01mand\u001B[39;00m check_params\u001B[38;5;241m.\u001B[39mget(\u001B[38;5;124m\"\u001B[39m\u001B[38;5;124mensure_2d\u001B[39m\u001B[38;5;124m\"\u001B[39m, \u001B[38;5;28;01mTrue\u001B[39;00m):\n",
      "File \u001B[0;32m~/Documents/18755/Project/Group Project/Car-Accidents-Network/env/lib/python3.10/site-packages/sklearn/utils/validation.py:1074\u001B[0m, in \u001B[0;36mcheck_X_y\u001B[0;34m(X, y, accept_sparse, accept_large_sparse, dtype, order, copy, force_all_finite, ensure_2d, allow_nd, multi_output, ensure_min_samples, ensure_min_features, y_numeric, estimator)\u001B[0m\n\u001B[1;32m   1069\u001B[0m         estimator_name \u001B[38;5;241m=\u001B[39m _check_estimator_name(estimator)\n\u001B[1;32m   1070\u001B[0m     \u001B[38;5;28;01mraise\u001B[39;00m \u001B[38;5;167;01mValueError\u001B[39;00m(\n\u001B[1;32m   1071\u001B[0m         \u001B[38;5;124mf\u001B[39m\u001B[38;5;124m\"\u001B[39m\u001B[38;5;132;01m{\u001B[39;00mestimator_name\u001B[38;5;132;01m}\u001B[39;00m\u001B[38;5;124m requires y to be passed, but the target y is None\u001B[39m\u001B[38;5;124m\"\u001B[39m\n\u001B[1;32m   1072\u001B[0m     )\n\u001B[0;32m-> 1074\u001B[0m X \u001B[38;5;241m=\u001B[39m \u001B[43mcheck_array\u001B[49m\u001B[43m(\u001B[49m\n\u001B[1;32m   1075\u001B[0m \u001B[43m    \u001B[49m\u001B[43mX\u001B[49m\u001B[43m,\u001B[49m\n\u001B[1;32m   1076\u001B[0m \u001B[43m    \u001B[49m\u001B[43maccept_sparse\u001B[49m\u001B[38;5;241;43m=\u001B[39;49m\u001B[43maccept_sparse\u001B[49m\u001B[43m,\u001B[49m\n\u001B[1;32m   1077\u001B[0m \u001B[43m    \u001B[49m\u001B[43maccept_large_sparse\u001B[49m\u001B[38;5;241;43m=\u001B[39;49m\u001B[43maccept_large_sparse\u001B[49m\u001B[43m,\u001B[49m\n\u001B[1;32m   1078\u001B[0m \u001B[43m    \u001B[49m\u001B[43mdtype\u001B[49m\u001B[38;5;241;43m=\u001B[39;49m\u001B[43mdtype\u001B[49m\u001B[43m,\u001B[49m\n\u001B[1;32m   1079\u001B[0m \u001B[43m    \u001B[49m\u001B[43morder\u001B[49m\u001B[38;5;241;43m=\u001B[39;49m\u001B[43morder\u001B[49m\u001B[43m,\u001B[49m\n\u001B[1;32m   1080\u001B[0m \u001B[43m    \u001B[49m\u001B[43mcopy\u001B[49m\u001B[38;5;241;43m=\u001B[39;49m\u001B[43mcopy\u001B[49m\u001B[43m,\u001B[49m\n\u001B[1;32m   1081\u001B[0m \u001B[43m    \u001B[49m\u001B[43mforce_all_finite\u001B[49m\u001B[38;5;241;43m=\u001B[39;49m\u001B[43mforce_all_finite\u001B[49m\u001B[43m,\u001B[49m\n\u001B[1;32m   1082\u001B[0m \u001B[43m    \u001B[49m\u001B[43mensure_2d\u001B[49m\u001B[38;5;241;43m=\u001B[39;49m\u001B[43mensure_2d\u001B[49m\u001B[43m,\u001B[49m\n\u001B[1;32m   1083\u001B[0m \u001B[43m    \u001B[49m\u001B[43mallow_nd\u001B[49m\u001B[38;5;241;43m=\u001B[39;49m\u001B[43mallow_nd\u001B[49m\u001B[43m,\u001B[49m\n\u001B[1;32m   1084\u001B[0m \u001B[43m    \u001B[49m\u001B[43mensure_min_samples\u001B[49m\u001B[38;5;241;43m=\u001B[39;49m\u001B[43mensure_min_samples\u001B[49m\u001B[43m,\u001B[49m\n\u001B[1;32m   1085\u001B[0m \u001B[43m    \u001B[49m\u001B[43mensure_min_features\u001B[49m\u001B[38;5;241;43m=\u001B[39;49m\u001B[43mensure_min_features\u001B[49m\u001B[43m,\u001B[49m\n\u001B[1;32m   1086\u001B[0m \u001B[43m    \u001B[49m\u001B[43mestimator\u001B[49m\u001B[38;5;241;43m=\u001B[39;49m\u001B[43mestimator\u001B[49m\u001B[43m,\u001B[49m\n\u001B[1;32m   1087\u001B[0m \u001B[43m    \u001B[49m\u001B[43minput_name\u001B[49m\u001B[38;5;241;43m=\u001B[39;49m\u001B[38;5;124;43m\"\u001B[39;49m\u001B[38;5;124;43mX\u001B[39;49m\u001B[38;5;124;43m\"\u001B[39;49m\u001B[43m,\u001B[49m\n\u001B[1;32m   1088\u001B[0m \u001B[43m\u001B[49m\u001B[43m)\u001B[49m\n\u001B[1;32m   1090\u001B[0m y \u001B[38;5;241m=\u001B[39m _check_y(y, multi_output\u001B[38;5;241m=\u001B[39mmulti_output, y_numeric\u001B[38;5;241m=\u001B[39my_numeric, estimator\u001B[38;5;241m=\u001B[39mestimator)\n\u001B[1;32m   1092\u001B[0m check_consistent_length(X, y)\n",
      "File \u001B[0;32m~/Documents/18755/Project/Group Project/Car-Accidents-Network/env/lib/python3.10/site-packages/sklearn/utils/validation.py:856\u001B[0m, in \u001B[0;36mcheck_array\u001B[0;34m(array, accept_sparse, accept_large_sparse, dtype, order, copy, force_all_finite, ensure_2d, allow_nd, ensure_min_samples, ensure_min_features, estimator, input_name)\u001B[0m\n\u001B[1;32m    854\u001B[0m         array \u001B[38;5;241m=\u001B[39m array\u001B[38;5;241m.\u001B[39mastype(dtype, casting\u001B[38;5;241m=\u001B[39m\u001B[38;5;124m\"\u001B[39m\u001B[38;5;124munsafe\u001B[39m\u001B[38;5;124m\"\u001B[39m, copy\u001B[38;5;241m=\u001B[39m\u001B[38;5;28;01mFalse\u001B[39;00m)\n\u001B[1;32m    855\u001B[0m     \u001B[38;5;28;01melse\u001B[39;00m:\n\u001B[0;32m--> 856\u001B[0m         array \u001B[38;5;241m=\u001B[39m \u001B[43mnp\u001B[49m\u001B[38;5;241;43m.\u001B[39;49m\u001B[43masarray\u001B[49m\u001B[43m(\u001B[49m\u001B[43marray\u001B[49m\u001B[43m,\u001B[49m\u001B[43m \u001B[49m\u001B[43morder\u001B[49m\u001B[38;5;241;43m=\u001B[39;49m\u001B[43morder\u001B[49m\u001B[43m,\u001B[49m\u001B[43m \u001B[49m\u001B[43mdtype\u001B[49m\u001B[38;5;241;43m=\u001B[39;49m\u001B[43mdtype\u001B[49m\u001B[43m)\u001B[49m\n\u001B[1;32m    857\u001B[0m \u001B[38;5;28;01mexcept\u001B[39;00m ComplexWarning \u001B[38;5;28;01mas\u001B[39;00m complex_warning:\n\u001B[1;32m    858\u001B[0m     \u001B[38;5;28;01mraise\u001B[39;00m \u001B[38;5;167;01mValueError\u001B[39;00m(\n\u001B[1;32m    859\u001B[0m         \u001B[38;5;124m\"\u001B[39m\u001B[38;5;124mComplex data not supported\u001B[39m\u001B[38;5;130;01m\\n\u001B[39;00m\u001B[38;5;132;01m{}\u001B[39;00m\u001B[38;5;130;01m\\n\u001B[39;00m\u001B[38;5;124m\"\u001B[39m\u001B[38;5;241m.\u001B[39mformat(array)\n\u001B[1;32m    860\u001B[0m     ) \u001B[38;5;28;01mfrom\u001B[39;00m \u001B[38;5;21;01mcomplex_warning\u001B[39;00m\n",
      "File \u001B[0;32m~/Documents/18755/Project/Group Project/Car-Accidents-Network/env/lib/python3.10/site-packages/pandas/core/generic.py:2070\u001B[0m, in \u001B[0;36mNDFrame.__array__\u001B[0;34m(self, dtype)\u001B[0m\n\u001B[1;32m   2069\u001B[0m \u001B[38;5;28;01mdef\u001B[39;00m \u001B[38;5;21m__array__\u001B[39m(\u001B[38;5;28mself\u001B[39m, dtype: npt\u001B[38;5;241m.\u001B[39mDTypeLike \u001B[38;5;241m|\u001B[39m \u001B[38;5;28;01mNone\u001B[39;00m \u001B[38;5;241m=\u001B[39m \u001B[38;5;28;01mNone\u001B[39;00m) \u001B[38;5;241m-\u001B[39m\u001B[38;5;241m>\u001B[39m np\u001B[38;5;241m.\u001B[39mndarray:\n\u001B[0;32m-> 2070\u001B[0m     \u001B[38;5;28;01mreturn\u001B[39;00m \u001B[43mnp\u001B[49m\u001B[38;5;241;43m.\u001B[39;49m\u001B[43masarray\u001B[49m\u001B[43m(\u001B[49m\u001B[38;5;28;43mself\u001B[39;49m\u001B[38;5;241;43m.\u001B[39;49m\u001B[43m_values\u001B[49m\u001B[43m,\u001B[49m\u001B[43m \u001B[49m\u001B[43mdtype\u001B[49m\u001B[38;5;241;43m=\u001B[39;49m\u001B[43mdtype\u001B[49m\u001B[43m)\u001B[49m\n",
      "\u001B[0;31mValueError\u001B[0m: could not convert string to float: '91390-1164'"
     ]
    }
   ],
   "source": [
    "from sklearn.tree import DecisionTreeClassifier\n",
    "from sklearn.ensemble import RandomForestClassifier\n",
    "from sklearn.svm import SVC\n",
    "from sklearn.linear_model import LogisticRegression\n",
    "from sklearn import metrics\n",
    "\n",
    "lr = LogisticRegression(random_state=42)\n",
    "lr.fit(x_train, y_train)\n",
    "y_pred = lr.predict(x_test)\n",
    "\n",
    "acc = metrics.accuracy_score(y_test, y_pred)\n",
    "\n",
    "accuracy_lst = []\n",
    "accuracy_lst.append(acc)\n",
    "\n",
    "print(accuracy_lst)"
   ],
   "metadata": {
    "collapsed": false,
    "pycharm": {
     "name": "#%%\n"
    }
   }
  },
  {
   "cell_type": "code",
   "execution_count": 18,
   "outputs": [
    {
     "ename": "TypeError",
     "evalue": "'tuple' object is not callable",
     "output_type": "error",
     "traceback": [
      "\u001B[0;31m---------------------------------------------------------------------------\u001B[0m",
      "\u001B[0;31mTypeError\u001B[0m                                 Traceback (most recent call last)",
      "Cell \u001B[0;32mIn [18], line 1\u001B[0m\n\u001B[0;32m----> 1\u001B[0m \u001B[43mX\u001B[49m\u001B[38;5;241;43m.\u001B[39;49m\u001B[43mshape\u001B[49m\u001B[43m(\u001B[49m\u001B[43m)\u001B[49m\n",
      "\u001B[0;31mTypeError\u001B[0m: 'tuple' object is not callable"
     ]
    }
   ],
   "source": [
    "X.shape()"
   ],
   "metadata": {
    "collapsed": false,
    "pycharm": {
     "name": "#%%\n"
    }
   }
  },
  {
   "cell_type": "code",
   "execution_count": 19,
   "outputs": [
    {
     "data": {
      "text/plain": "(8255, 9)"
     },
     "execution_count": 19,
     "metadata": {},
     "output_type": "execute_result"
    }
   ],
   "source": [
    "df_sel.shape"
   ],
   "metadata": {
    "collapsed": false,
    "pycharm": {
     "name": "#%%\n"
    }
   }
  },
  {
   "cell_type": "code",
   "execution_count": 20,
   "outputs": [
    {
     "ename": "KeyError",
     "evalue": "'True: boolean label can not be used without a boolean index'",
     "output_type": "error",
     "traceback": [
      "\u001B[0;31m---------------------------------------------------------------------------\u001B[0m",
      "\u001B[0;31mKeyError\u001B[0m                                  Traceback (most recent call last)",
      "Cell \u001B[0;32mIn [20], line 1\u001B[0m\n\u001B[0;32m----> 1\u001B[0m \u001B[43mdf_sel\u001B[49m\u001B[38;5;241;43m.\u001B[39;49m\u001B[43mloc\u001B[49m\u001B[43m[\u001B[49m\u001B[38;5;28;43mlen\u001B[39;49m\u001B[43m(\u001B[49m\u001B[43mdf_sel\u001B[49m\u001B[43m[\u001B[49m\u001B[38;5;124;43m'\u001B[39;49m\u001B[38;5;124;43mZipcode\u001B[39;49m\u001B[38;5;124;43m'\u001B[39;49m\u001B[43m]\u001B[49m\u001B[43m)\u001B[49m\u001B[43m \u001B[49m\u001B[38;5;241;43m>\u001B[39;49m\u001B[43m \u001B[49m\u001B[38;5;241;43m5\u001B[39;49m\u001B[43m]\u001B[49m\n",
      "File \u001B[0;32m~/Documents/18755/Project/Group Project/Car-Accidents-Network/env/lib/python3.10/site-packages/pandas/core/indexing.py:1073\u001B[0m, in \u001B[0;36m_LocationIndexer.__getitem__\u001B[0;34m(self, key)\u001B[0m\n\u001B[1;32m   1070\u001B[0m axis \u001B[38;5;241m=\u001B[39m \u001B[38;5;28mself\u001B[39m\u001B[38;5;241m.\u001B[39maxis \u001B[38;5;129;01mor\u001B[39;00m \u001B[38;5;241m0\u001B[39m\n\u001B[1;32m   1072\u001B[0m maybe_callable \u001B[38;5;241m=\u001B[39m com\u001B[38;5;241m.\u001B[39mapply_if_callable(key, \u001B[38;5;28mself\u001B[39m\u001B[38;5;241m.\u001B[39mobj)\n\u001B[0;32m-> 1073\u001B[0m \u001B[38;5;28;01mreturn\u001B[39;00m \u001B[38;5;28;43mself\u001B[39;49m\u001B[38;5;241;43m.\u001B[39;49m\u001B[43m_getitem_axis\u001B[49m\u001B[43m(\u001B[49m\u001B[43mmaybe_callable\u001B[49m\u001B[43m,\u001B[49m\u001B[43m \u001B[49m\u001B[43maxis\u001B[49m\u001B[38;5;241;43m=\u001B[39;49m\u001B[43maxis\u001B[49m\u001B[43m)\u001B[49m\n",
      "File \u001B[0;32m~/Documents/18755/Project/Group Project/Car-Accidents-Network/env/lib/python3.10/site-packages/pandas/core/indexing.py:1311\u001B[0m, in \u001B[0;36m_LocIndexer._getitem_axis\u001B[0;34m(self, key, axis)\u001B[0m\n\u001B[1;32m   1308\u001B[0m         \u001B[38;5;28;01mreturn\u001B[39;00m \u001B[38;5;28mself\u001B[39m\u001B[38;5;241m.\u001B[39mobj\u001B[38;5;241m.\u001B[39miloc[\u001B[38;5;28mtuple\u001B[39m(indexer)]\n\u001B[1;32m   1310\u001B[0m \u001B[38;5;66;03m# fall thru to straight lookup\u001B[39;00m\n\u001B[0;32m-> 1311\u001B[0m \u001B[38;5;28;43mself\u001B[39;49m\u001B[38;5;241;43m.\u001B[39;49m\u001B[43m_validate_key\u001B[49m\u001B[43m(\u001B[49m\u001B[43mkey\u001B[49m\u001B[43m,\u001B[49m\u001B[43m \u001B[49m\u001B[43maxis\u001B[49m\u001B[43m)\u001B[49m\n\u001B[1;32m   1312\u001B[0m \u001B[38;5;28;01mreturn\u001B[39;00m \u001B[38;5;28mself\u001B[39m\u001B[38;5;241m.\u001B[39m_get_label(key, axis\u001B[38;5;241m=\u001B[39maxis)\n",
      "File \u001B[0;32m~/Documents/18755/Project/Group Project/Car-Accidents-Network/env/lib/python3.10/site-packages/pandas/core/indexing.py:1118\u001B[0m, in \u001B[0;36m_LocIndexer._validate_key\u001B[0;34m(self, key, axis)\u001B[0m\n\u001B[1;32m   1108\u001B[0m \u001B[38;5;129m@doc\u001B[39m(_LocationIndexer\u001B[38;5;241m.\u001B[39m_validate_key)\n\u001B[1;32m   1109\u001B[0m \u001B[38;5;28;01mdef\u001B[39;00m \u001B[38;5;21m_validate_key\u001B[39m(\u001B[38;5;28mself\u001B[39m, key, axis: \u001B[38;5;28mint\u001B[39m):\n\u001B[1;32m   1110\u001B[0m     \u001B[38;5;66;03m# valid for a collection of labels (we check their presence later)\u001B[39;00m\n\u001B[1;32m   1111\u001B[0m     \u001B[38;5;66;03m# slice of labels (where start-end in labels)\u001B[39;00m\n\u001B[1;32m   1112\u001B[0m     \u001B[38;5;66;03m# slice of integers (only if in the labels)\u001B[39;00m\n\u001B[1;32m   1113\u001B[0m     \u001B[38;5;66;03m# boolean not in slice and with boolean index\u001B[39;00m\n\u001B[1;32m   1114\u001B[0m     \u001B[38;5;28;01mif\u001B[39;00m \u001B[38;5;28misinstance\u001B[39m(key, \u001B[38;5;28mbool\u001B[39m) \u001B[38;5;129;01mand\u001B[39;00m \u001B[38;5;129;01mnot\u001B[39;00m (\n\u001B[1;32m   1115\u001B[0m         is_bool_dtype(\u001B[38;5;28mself\u001B[39m\u001B[38;5;241m.\u001B[39mobj\u001B[38;5;241m.\u001B[39m_get_axis(axis))\n\u001B[1;32m   1116\u001B[0m         \u001B[38;5;129;01mor\u001B[39;00m \u001B[38;5;28mself\u001B[39m\u001B[38;5;241m.\u001B[39mobj\u001B[38;5;241m.\u001B[39m_get_axis(axis)\u001B[38;5;241m.\u001B[39mdtype\u001B[38;5;241m.\u001B[39mname \u001B[38;5;241m==\u001B[39m \u001B[38;5;124m\"\u001B[39m\u001B[38;5;124mboolean\u001B[39m\u001B[38;5;124m\"\u001B[39m\n\u001B[1;32m   1117\u001B[0m     ):\n\u001B[0;32m-> 1118\u001B[0m         \u001B[38;5;28;01mraise\u001B[39;00m \u001B[38;5;167;01mKeyError\u001B[39;00m(\n\u001B[1;32m   1119\u001B[0m             \u001B[38;5;124mf\u001B[39m\u001B[38;5;124m\"\u001B[39m\u001B[38;5;132;01m{\u001B[39;00mkey\u001B[38;5;132;01m}\u001B[39;00m\u001B[38;5;124m: boolean label can not be used without a boolean index\u001B[39m\u001B[38;5;124m\"\u001B[39m\n\u001B[1;32m   1120\u001B[0m         )\n\u001B[1;32m   1122\u001B[0m     \u001B[38;5;28;01mif\u001B[39;00m \u001B[38;5;28misinstance\u001B[39m(key, \u001B[38;5;28mslice\u001B[39m) \u001B[38;5;129;01mand\u001B[39;00m (\n\u001B[1;32m   1123\u001B[0m         \u001B[38;5;28misinstance\u001B[39m(key\u001B[38;5;241m.\u001B[39mstart, \u001B[38;5;28mbool\u001B[39m) \u001B[38;5;129;01mor\u001B[39;00m \u001B[38;5;28misinstance\u001B[39m(key\u001B[38;5;241m.\u001B[39mstop, \u001B[38;5;28mbool\u001B[39m)\n\u001B[1;32m   1124\u001B[0m     ):\n\u001B[1;32m   1125\u001B[0m         \u001B[38;5;28;01mraise\u001B[39;00m \u001B[38;5;167;01mTypeError\u001B[39;00m(\u001B[38;5;124mf\u001B[39m\u001B[38;5;124m\"\u001B[39m\u001B[38;5;132;01m{\u001B[39;00mkey\u001B[38;5;132;01m}\u001B[39;00m\u001B[38;5;124m: boolean values can not be used in a slice\u001B[39m\u001B[38;5;124m\"\u001B[39m)\n",
      "\u001B[0;31mKeyError\u001B[0m: 'True: boolean label can not be used without a boolean index'"
     ]
    }
   ],
   "source": [
    "df_sel.loc[len(df_sel['Zipcode']) > 5]"
   ],
   "metadata": {
    "collapsed": false,
    "pycharm": {
     "name": "#%%\n"
    }
   }
  },
  {
   "cell_type": "code",
   "execution_count": 23,
   "outputs": [
    {
     "data": {
      "text/plain": "      Severity     Zipcode Sunrise_Sunset  Temperature(F)  Humidity(%)  \\\n33           2  46235-6127            Day            19.4         86.0   \n39           4  43035-9415            Day            26.6         86.0   \n43           4  47373-9430          Night            19.9         81.0   \n44           4  47357-9741          Night            23.0         80.0   \n47           4  45898-9523          Night            17.1         77.0   \n...        ...         ...            ...             ...          ...   \n9906         2  90265-5762          Night            60.1         78.0   \n9941         2  92570-9528            Day            53.6         94.0   \n9944         2  91748-2943            Day            62.1         62.0   \n9955         2  90606-2196            Day            59.0         63.0   \n9973         2  90304-1934            Day            63.0         65.0   \n\n      Pressure(in)  Visibility(mi)  Wind_Speed(mph) Weather_Condition  \n33           29.76             5.0             16.1          Overcast  \n39           29.68             2.0             10.4        Light Snow  \n43           29.85             2.0             12.7        Light Snow  \n44           29.79             3.0             11.5        Light Snow  \n47           29.91             2.5             19.6        Light Snow  \n...            ...             ...              ...               ...  \n9906         30.08            10.0              3.5             Clear  \n9941         30.08            10.0              3.5     Mostly Cloudy  \n9944         30.07            10.0              5.8          Overcast  \n9955         30.10            10.0              3.5     Partly Cloudy  \n9973         30.08            10.0              4.6     Mostly Cloudy  \n\n[872 rows x 9 columns]",
      "text/html": "<div>\n<style scoped>\n    .dataframe tbody tr th:only-of-type {\n        vertical-align: middle;\n    }\n\n    .dataframe tbody tr th {\n        vertical-align: top;\n    }\n\n    .dataframe thead th {\n        text-align: right;\n    }\n</style>\n<table border=\"1\" class=\"dataframe\">\n  <thead>\n    <tr style=\"text-align: right;\">\n      <th></th>\n      <th>Severity</th>\n      <th>Zipcode</th>\n      <th>Sunrise_Sunset</th>\n      <th>Temperature(F)</th>\n      <th>Humidity(%)</th>\n      <th>Pressure(in)</th>\n      <th>Visibility(mi)</th>\n      <th>Wind_Speed(mph)</th>\n      <th>Weather_Condition</th>\n    </tr>\n  </thead>\n  <tbody>\n    <tr>\n      <th>33</th>\n      <td>2</td>\n      <td>46235-6127</td>\n      <td>Day</td>\n      <td>19.4</td>\n      <td>86.0</td>\n      <td>29.76</td>\n      <td>5.0</td>\n      <td>16.1</td>\n      <td>Overcast</td>\n    </tr>\n    <tr>\n      <th>39</th>\n      <td>4</td>\n      <td>43035-9415</td>\n      <td>Day</td>\n      <td>26.6</td>\n      <td>86.0</td>\n      <td>29.68</td>\n      <td>2.0</td>\n      <td>10.4</td>\n      <td>Light Snow</td>\n    </tr>\n    <tr>\n      <th>43</th>\n      <td>4</td>\n      <td>47373-9430</td>\n      <td>Night</td>\n      <td>19.9</td>\n      <td>81.0</td>\n      <td>29.85</td>\n      <td>2.0</td>\n      <td>12.7</td>\n      <td>Light Snow</td>\n    </tr>\n    <tr>\n      <th>44</th>\n      <td>4</td>\n      <td>47357-9741</td>\n      <td>Night</td>\n      <td>23.0</td>\n      <td>80.0</td>\n      <td>29.79</td>\n      <td>3.0</td>\n      <td>11.5</td>\n      <td>Light Snow</td>\n    </tr>\n    <tr>\n      <th>47</th>\n      <td>4</td>\n      <td>45898-9523</td>\n      <td>Night</td>\n      <td>17.1</td>\n      <td>77.0</td>\n      <td>29.91</td>\n      <td>2.5</td>\n      <td>19.6</td>\n      <td>Light Snow</td>\n    </tr>\n    <tr>\n      <th>...</th>\n      <td>...</td>\n      <td>...</td>\n      <td>...</td>\n      <td>...</td>\n      <td>...</td>\n      <td>...</td>\n      <td>...</td>\n      <td>...</td>\n      <td>...</td>\n    </tr>\n    <tr>\n      <th>9906</th>\n      <td>2</td>\n      <td>90265-5762</td>\n      <td>Night</td>\n      <td>60.1</td>\n      <td>78.0</td>\n      <td>30.08</td>\n      <td>10.0</td>\n      <td>3.5</td>\n      <td>Clear</td>\n    </tr>\n    <tr>\n      <th>9941</th>\n      <td>2</td>\n      <td>92570-9528</td>\n      <td>Day</td>\n      <td>53.6</td>\n      <td>94.0</td>\n      <td>30.08</td>\n      <td>10.0</td>\n      <td>3.5</td>\n      <td>Mostly Cloudy</td>\n    </tr>\n    <tr>\n      <th>9944</th>\n      <td>2</td>\n      <td>91748-2943</td>\n      <td>Day</td>\n      <td>62.1</td>\n      <td>62.0</td>\n      <td>30.07</td>\n      <td>10.0</td>\n      <td>5.8</td>\n      <td>Overcast</td>\n    </tr>\n    <tr>\n      <th>9955</th>\n      <td>2</td>\n      <td>90606-2196</td>\n      <td>Day</td>\n      <td>59.0</td>\n      <td>63.0</td>\n      <td>30.10</td>\n      <td>10.0</td>\n      <td>3.5</td>\n      <td>Partly Cloudy</td>\n    </tr>\n    <tr>\n      <th>9973</th>\n      <td>2</td>\n      <td>90304-1934</td>\n      <td>Day</td>\n      <td>63.0</td>\n      <td>65.0</td>\n      <td>30.08</td>\n      <td>10.0</td>\n      <td>4.6</td>\n      <td>Mostly Cloudy</td>\n    </tr>\n  </tbody>\n</table>\n<p>872 rows × 9 columns</p>\n</div>"
     },
     "execution_count": 23,
     "metadata": {},
     "output_type": "execute_result"
    }
   ],
   "source": [
    "df_sel.shape\n",
    "df_sel.loc[df_sel['Zipcode'].str.len() > 5, ['Zipcode']]"
   ],
   "metadata": {
    "collapsed": false,
    "pycharm": {
     "name": "#%%\n"
    }
   }
  },
  {
   "cell_type": "code",
   "execution_count": 24,
   "outputs": [
    {
     "data": {
      "text/plain": "0        43017\n4        45217\n5        45176\n6        45404\n7        44130\n         ...  \n9996     92801\n9997     91343\n9998     92708\n9999     92029\n10000    92021\nName: Zipcode, Length: 8255, dtype: object"
     },
     "execution_count": 24,
     "metadata": {},
     "output_type": "execute_result"
    }
   ],
   "source": [
    "df_sel['Zipcode'].str[:5]"
   ],
   "metadata": {
    "collapsed": false,
    "pycharm": {
     "name": "#%%\n"
    }
   }
  },
  {
   "cell_type": "code",
   "execution_count": 36,
   "outputs": [],
   "source": [
    "X = df_sel.drop(target, axis=1)\n",
    "Y = df_sel[target]"
   ],
   "metadata": {
    "collapsed": false,
    "pycharm": {
     "name": "#%%\n"
    }
   }
  },
  {
   "cell_type": "code",
   "execution_count": 37,
   "outputs": [],
   "source": [
    "x_train, x_test, y_train, y_test = train_test_split(X, Y, test_size=0.33, random_state=42)"
   ],
   "metadata": {
    "collapsed": false,
    "pycharm": {
     "name": "#%%\n"
    }
   }
  },
  {
   "cell_type": "code",
   "execution_count": 38,
   "outputs": [
    {
     "ename": "ValueError",
     "evalue": "could not convert string to float: 'Night'",
     "output_type": "error",
     "traceback": [
      "\u001B[0;31m---------------------------------------------------------------------------\u001B[0m",
      "\u001B[0;31mValueError\u001B[0m                                Traceback (most recent call last)",
      "Cell \u001B[0;32mIn [38], line 2\u001B[0m\n\u001B[1;32m      1\u001B[0m lr \u001B[38;5;241m=\u001B[39m LogisticRegression(random_state\u001B[38;5;241m=\u001B[39m\u001B[38;5;241m42\u001B[39m)\n\u001B[0;32m----> 2\u001B[0m \u001B[43mlr\u001B[49m\u001B[38;5;241;43m.\u001B[39;49m\u001B[43mfit\u001B[49m\u001B[43m(\u001B[49m\u001B[43mx_train\u001B[49m\u001B[43m,\u001B[49m\u001B[43m \u001B[49m\u001B[43my_train\u001B[49m\u001B[43m)\u001B[49m\n\u001B[1;32m      3\u001B[0m y_pred \u001B[38;5;241m=\u001B[39m lr\u001B[38;5;241m.\u001B[39mpredict(x_test)\n\u001B[1;32m      5\u001B[0m acc \u001B[38;5;241m=\u001B[39m metrics\u001B[38;5;241m.\u001B[39maccuracy_score(y_test, y_pred)\n",
      "File \u001B[0;32m~/Documents/18755/Project/Group Project/Car-Accidents-Network/env/lib/python3.10/site-packages/sklearn/linear_model/_logistic.py:1138\u001B[0m, in \u001B[0;36mLogisticRegression.fit\u001B[0;34m(self, X, y, sample_weight)\u001B[0m\n\u001B[1;32m   1135\u001B[0m \u001B[38;5;28;01melse\u001B[39;00m:\n\u001B[1;32m   1136\u001B[0m     _dtype \u001B[38;5;241m=\u001B[39m [np\u001B[38;5;241m.\u001B[39mfloat64, np\u001B[38;5;241m.\u001B[39mfloat32]\n\u001B[0;32m-> 1138\u001B[0m X, y \u001B[38;5;241m=\u001B[39m \u001B[38;5;28;43mself\u001B[39;49m\u001B[38;5;241;43m.\u001B[39;49m\u001B[43m_validate_data\u001B[49m\u001B[43m(\u001B[49m\n\u001B[1;32m   1139\u001B[0m \u001B[43m    \u001B[49m\u001B[43mX\u001B[49m\u001B[43m,\u001B[49m\n\u001B[1;32m   1140\u001B[0m \u001B[43m    \u001B[49m\u001B[43my\u001B[49m\u001B[43m,\u001B[49m\n\u001B[1;32m   1141\u001B[0m \u001B[43m    \u001B[49m\u001B[43maccept_sparse\u001B[49m\u001B[38;5;241;43m=\u001B[39;49m\u001B[38;5;124;43m\"\u001B[39;49m\u001B[38;5;124;43mcsr\u001B[39;49m\u001B[38;5;124;43m\"\u001B[39;49m\u001B[43m,\u001B[49m\n\u001B[1;32m   1142\u001B[0m \u001B[43m    \u001B[49m\u001B[43mdtype\u001B[49m\u001B[38;5;241;43m=\u001B[39;49m\u001B[43m_dtype\u001B[49m\u001B[43m,\u001B[49m\n\u001B[1;32m   1143\u001B[0m \u001B[43m    \u001B[49m\u001B[43morder\u001B[49m\u001B[38;5;241;43m=\u001B[39;49m\u001B[38;5;124;43m\"\u001B[39;49m\u001B[38;5;124;43mC\u001B[39;49m\u001B[38;5;124;43m\"\u001B[39;49m\u001B[43m,\u001B[49m\n\u001B[1;32m   1144\u001B[0m \u001B[43m    \u001B[49m\u001B[43maccept_large_sparse\u001B[49m\u001B[38;5;241;43m=\u001B[39;49m\u001B[43msolver\u001B[49m\u001B[43m \u001B[49m\u001B[38;5;129;43;01mnot\u001B[39;49;00m\u001B[43m \u001B[49m\u001B[38;5;129;43;01min\u001B[39;49;00m\u001B[43m \u001B[49m\u001B[43m[\u001B[49m\u001B[38;5;124;43m\"\u001B[39;49m\u001B[38;5;124;43mliblinear\u001B[39;49m\u001B[38;5;124;43m\"\u001B[39;49m\u001B[43m,\u001B[49m\u001B[43m \u001B[49m\u001B[38;5;124;43m\"\u001B[39;49m\u001B[38;5;124;43msag\u001B[39;49m\u001B[38;5;124;43m\"\u001B[39;49m\u001B[43m,\u001B[49m\u001B[43m \u001B[49m\u001B[38;5;124;43m\"\u001B[39;49m\u001B[38;5;124;43msaga\u001B[39;49m\u001B[38;5;124;43m\"\u001B[39;49m\u001B[43m]\u001B[49m\u001B[43m,\u001B[49m\n\u001B[1;32m   1145\u001B[0m \u001B[43m\u001B[49m\u001B[43m)\u001B[49m\n\u001B[1;32m   1146\u001B[0m check_classification_targets(y)\n\u001B[1;32m   1147\u001B[0m \u001B[38;5;28mself\u001B[39m\u001B[38;5;241m.\u001B[39mclasses_ \u001B[38;5;241m=\u001B[39m np\u001B[38;5;241m.\u001B[39munique(y)\n",
      "File \u001B[0;32m~/Documents/18755/Project/Group Project/Car-Accidents-Network/env/lib/python3.10/site-packages/sklearn/base.py:596\u001B[0m, in \u001B[0;36mBaseEstimator._validate_data\u001B[0;34m(self, X, y, reset, validate_separately, **check_params)\u001B[0m\n\u001B[1;32m    594\u001B[0m         y \u001B[38;5;241m=\u001B[39m check_array(y, input_name\u001B[38;5;241m=\u001B[39m\u001B[38;5;124m\"\u001B[39m\u001B[38;5;124my\u001B[39m\u001B[38;5;124m\"\u001B[39m, \u001B[38;5;241m*\u001B[39m\u001B[38;5;241m*\u001B[39mcheck_y_params)\n\u001B[1;32m    595\u001B[0m     \u001B[38;5;28;01melse\u001B[39;00m:\n\u001B[0;32m--> 596\u001B[0m         X, y \u001B[38;5;241m=\u001B[39m \u001B[43mcheck_X_y\u001B[49m\u001B[43m(\u001B[49m\u001B[43mX\u001B[49m\u001B[43m,\u001B[49m\u001B[43m \u001B[49m\u001B[43my\u001B[49m\u001B[43m,\u001B[49m\u001B[43m \u001B[49m\u001B[38;5;241;43m*\u001B[39;49m\u001B[38;5;241;43m*\u001B[39;49m\u001B[43mcheck_params\u001B[49m\u001B[43m)\u001B[49m\n\u001B[1;32m    597\u001B[0m     out \u001B[38;5;241m=\u001B[39m X, y\n\u001B[1;32m    599\u001B[0m \u001B[38;5;28;01mif\u001B[39;00m \u001B[38;5;129;01mnot\u001B[39;00m no_val_X \u001B[38;5;129;01mand\u001B[39;00m check_params\u001B[38;5;241m.\u001B[39mget(\u001B[38;5;124m\"\u001B[39m\u001B[38;5;124mensure_2d\u001B[39m\u001B[38;5;124m\"\u001B[39m, \u001B[38;5;28;01mTrue\u001B[39;00m):\n",
      "File \u001B[0;32m~/Documents/18755/Project/Group Project/Car-Accidents-Network/env/lib/python3.10/site-packages/sklearn/utils/validation.py:1074\u001B[0m, in \u001B[0;36mcheck_X_y\u001B[0;34m(X, y, accept_sparse, accept_large_sparse, dtype, order, copy, force_all_finite, ensure_2d, allow_nd, multi_output, ensure_min_samples, ensure_min_features, y_numeric, estimator)\u001B[0m\n\u001B[1;32m   1069\u001B[0m         estimator_name \u001B[38;5;241m=\u001B[39m _check_estimator_name(estimator)\n\u001B[1;32m   1070\u001B[0m     \u001B[38;5;28;01mraise\u001B[39;00m \u001B[38;5;167;01mValueError\u001B[39;00m(\n\u001B[1;32m   1071\u001B[0m         \u001B[38;5;124mf\u001B[39m\u001B[38;5;124m\"\u001B[39m\u001B[38;5;132;01m{\u001B[39;00mestimator_name\u001B[38;5;132;01m}\u001B[39;00m\u001B[38;5;124m requires y to be passed, but the target y is None\u001B[39m\u001B[38;5;124m\"\u001B[39m\n\u001B[1;32m   1072\u001B[0m     )\n\u001B[0;32m-> 1074\u001B[0m X \u001B[38;5;241m=\u001B[39m \u001B[43mcheck_array\u001B[49m\u001B[43m(\u001B[49m\n\u001B[1;32m   1075\u001B[0m \u001B[43m    \u001B[49m\u001B[43mX\u001B[49m\u001B[43m,\u001B[49m\n\u001B[1;32m   1076\u001B[0m \u001B[43m    \u001B[49m\u001B[43maccept_sparse\u001B[49m\u001B[38;5;241;43m=\u001B[39;49m\u001B[43maccept_sparse\u001B[49m\u001B[43m,\u001B[49m\n\u001B[1;32m   1077\u001B[0m \u001B[43m    \u001B[49m\u001B[43maccept_large_sparse\u001B[49m\u001B[38;5;241;43m=\u001B[39;49m\u001B[43maccept_large_sparse\u001B[49m\u001B[43m,\u001B[49m\n\u001B[1;32m   1078\u001B[0m \u001B[43m    \u001B[49m\u001B[43mdtype\u001B[49m\u001B[38;5;241;43m=\u001B[39;49m\u001B[43mdtype\u001B[49m\u001B[43m,\u001B[49m\n\u001B[1;32m   1079\u001B[0m \u001B[43m    \u001B[49m\u001B[43morder\u001B[49m\u001B[38;5;241;43m=\u001B[39;49m\u001B[43morder\u001B[49m\u001B[43m,\u001B[49m\n\u001B[1;32m   1080\u001B[0m \u001B[43m    \u001B[49m\u001B[43mcopy\u001B[49m\u001B[38;5;241;43m=\u001B[39;49m\u001B[43mcopy\u001B[49m\u001B[43m,\u001B[49m\n\u001B[1;32m   1081\u001B[0m \u001B[43m    \u001B[49m\u001B[43mforce_all_finite\u001B[49m\u001B[38;5;241;43m=\u001B[39;49m\u001B[43mforce_all_finite\u001B[49m\u001B[43m,\u001B[49m\n\u001B[1;32m   1082\u001B[0m \u001B[43m    \u001B[49m\u001B[43mensure_2d\u001B[49m\u001B[38;5;241;43m=\u001B[39;49m\u001B[43mensure_2d\u001B[49m\u001B[43m,\u001B[49m\n\u001B[1;32m   1083\u001B[0m \u001B[43m    \u001B[49m\u001B[43mallow_nd\u001B[49m\u001B[38;5;241;43m=\u001B[39;49m\u001B[43mallow_nd\u001B[49m\u001B[43m,\u001B[49m\n\u001B[1;32m   1084\u001B[0m \u001B[43m    \u001B[49m\u001B[43mensure_min_samples\u001B[49m\u001B[38;5;241;43m=\u001B[39;49m\u001B[43mensure_min_samples\u001B[49m\u001B[43m,\u001B[49m\n\u001B[1;32m   1085\u001B[0m \u001B[43m    \u001B[49m\u001B[43mensure_min_features\u001B[49m\u001B[38;5;241;43m=\u001B[39;49m\u001B[43mensure_min_features\u001B[49m\u001B[43m,\u001B[49m\n\u001B[1;32m   1086\u001B[0m \u001B[43m    \u001B[49m\u001B[43mestimator\u001B[49m\u001B[38;5;241;43m=\u001B[39;49m\u001B[43mestimator\u001B[49m\u001B[43m,\u001B[49m\n\u001B[1;32m   1087\u001B[0m \u001B[43m    \u001B[49m\u001B[43minput_name\u001B[49m\u001B[38;5;241;43m=\u001B[39;49m\u001B[38;5;124;43m\"\u001B[39;49m\u001B[38;5;124;43mX\u001B[39;49m\u001B[38;5;124;43m\"\u001B[39;49m\u001B[43m,\u001B[49m\n\u001B[1;32m   1088\u001B[0m \u001B[43m\u001B[49m\u001B[43m)\u001B[49m\n\u001B[1;32m   1090\u001B[0m y \u001B[38;5;241m=\u001B[39m _check_y(y, multi_output\u001B[38;5;241m=\u001B[39mmulti_output, y_numeric\u001B[38;5;241m=\u001B[39my_numeric, estimator\u001B[38;5;241m=\u001B[39mestimator)\n\u001B[1;32m   1092\u001B[0m check_consistent_length(X, y)\n",
      "File \u001B[0;32m~/Documents/18755/Project/Group Project/Car-Accidents-Network/env/lib/python3.10/site-packages/sklearn/utils/validation.py:856\u001B[0m, in \u001B[0;36mcheck_array\u001B[0;34m(array, accept_sparse, accept_large_sparse, dtype, order, copy, force_all_finite, ensure_2d, allow_nd, ensure_min_samples, ensure_min_features, estimator, input_name)\u001B[0m\n\u001B[1;32m    854\u001B[0m         array \u001B[38;5;241m=\u001B[39m array\u001B[38;5;241m.\u001B[39mastype(dtype, casting\u001B[38;5;241m=\u001B[39m\u001B[38;5;124m\"\u001B[39m\u001B[38;5;124munsafe\u001B[39m\u001B[38;5;124m\"\u001B[39m, copy\u001B[38;5;241m=\u001B[39m\u001B[38;5;28;01mFalse\u001B[39;00m)\n\u001B[1;32m    855\u001B[0m     \u001B[38;5;28;01melse\u001B[39;00m:\n\u001B[0;32m--> 856\u001B[0m         array \u001B[38;5;241m=\u001B[39m \u001B[43mnp\u001B[49m\u001B[38;5;241;43m.\u001B[39;49m\u001B[43masarray\u001B[49m\u001B[43m(\u001B[49m\u001B[43marray\u001B[49m\u001B[43m,\u001B[49m\u001B[43m \u001B[49m\u001B[43morder\u001B[49m\u001B[38;5;241;43m=\u001B[39;49m\u001B[43morder\u001B[49m\u001B[43m,\u001B[49m\u001B[43m \u001B[49m\u001B[43mdtype\u001B[49m\u001B[38;5;241;43m=\u001B[39;49m\u001B[43mdtype\u001B[49m\u001B[43m)\u001B[49m\n\u001B[1;32m    857\u001B[0m \u001B[38;5;28;01mexcept\u001B[39;00m ComplexWarning \u001B[38;5;28;01mas\u001B[39;00m complex_warning:\n\u001B[1;32m    858\u001B[0m     \u001B[38;5;28;01mraise\u001B[39;00m \u001B[38;5;167;01mValueError\u001B[39;00m(\n\u001B[1;32m    859\u001B[0m         \u001B[38;5;124m\"\u001B[39m\u001B[38;5;124mComplex data not supported\u001B[39m\u001B[38;5;130;01m\\n\u001B[39;00m\u001B[38;5;132;01m{}\u001B[39;00m\u001B[38;5;130;01m\\n\u001B[39;00m\u001B[38;5;124m\"\u001B[39m\u001B[38;5;241m.\u001B[39mformat(array)\n\u001B[1;32m    860\u001B[0m     ) \u001B[38;5;28;01mfrom\u001B[39;00m \u001B[38;5;21;01mcomplex_warning\u001B[39;00m\n",
      "File \u001B[0;32m~/Documents/18755/Project/Group Project/Car-Accidents-Network/env/lib/python3.10/site-packages/pandas/core/generic.py:2070\u001B[0m, in \u001B[0;36mNDFrame.__array__\u001B[0;34m(self, dtype)\u001B[0m\n\u001B[1;32m   2069\u001B[0m \u001B[38;5;28;01mdef\u001B[39;00m \u001B[38;5;21m__array__\u001B[39m(\u001B[38;5;28mself\u001B[39m, dtype: npt\u001B[38;5;241m.\u001B[39mDTypeLike \u001B[38;5;241m|\u001B[39m \u001B[38;5;28;01mNone\u001B[39;00m \u001B[38;5;241m=\u001B[39m \u001B[38;5;28;01mNone\u001B[39;00m) \u001B[38;5;241m-\u001B[39m\u001B[38;5;241m>\u001B[39m np\u001B[38;5;241m.\u001B[39mndarray:\n\u001B[0;32m-> 2070\u001B[0m     \u001B[38;5;28;01mreturn\u001B[39;00m \u001B[43mnp\u001B[49m\u001B[38;5;241;43m.\u001B[39;49m\u001B[43masarray\u001B[49m\u001B[43m(\u001B[49m\u001B[38;5;28;43mself\u001B[39;49m\u001B[38;5;241;43m.\u001B[39;49m\u001B[43m_values\u001B[49m\u001B[43m,\u001B[49m\u001B[43m \u001B[49m\u001B[43mdtype\u001B[49m\u001B[38;5;241;43m=\u001B[39;49m\u001B[43mdtype\u001B[49m\u001B[43m)\u001B[49m\n",
      "\u001B[0;31mValueError\u001B[0m: could not convert string to float: 'Night'"
     ]
    }
   ],
   "source": [
    "lr = LogisticRegression(random_state=42)\n",
    "lr.fit(x_train, y_train)\n",
    "y_pred = lr.predict(x_test)\n",
    "\n",
    "acc = metrics.accuracy_score(y_test, y_pred)\n",
    "\n",
    "accuracy_lst = []\n",
    "accuracy_lst.append(acc)\n",
    "\n",
    "print(accuracy_lst)"
   ],
   "metadata": {
    "collapsed": false,
    "pycharm": {
     "name": "#%%\n"
    }
   }
  },
  {
   "cell_type": "code",
   "execution_count": 28,
   "outputs": [
    {
     "name": "stdout",
     "output_type": "stream",
     "text": [
      "         Zipcode Sunrise_Sunset  Temperature(F)  Humidity(%)  Pressure(in)  \\\n",
      "7183       90805          Night            61.0         41.0         29.86   \n",
      "5679  91390-1164          Night            56.0         51.0         29.01   \n",
      "6543       92708          Night            59.0         78.0         30.14   \n",
      "9412  90810-2158            Day            61.0         70.0         29.96   \n",
      "1612       94105          Night            61.0         58.0         30.11   \n",
      "...          ...            ...             ...          ...           ...   \n",
      "6871       91362          Night            50.0         68.0         29.93   \n",
      "6095       91737            Day            91.0         12.0         29.93   \n",
      "6402       92501            Day            64.9         58.0         29.86   \n",
      "968        15322            Day            59.0         23.0         29.95   \n",
      "8786       92123            Day            64.0         73.0         29.86   \n",
      "\n",
      "      Visibility(mi)  Wind_Speed(mph) Weather_Condition  \n",
      "7183            10.0              8.1             Clear  \n",
      "5679            10.0             12.0     Mostly Cloudy  \n",
      "6543            10.0              4.6          Overcast  \n",
      "9412            10.0              4.6     Mostly Cloudy  \n",
      "1612            10.0              8.1             Clear  \n",
      "...              ...              ...               ...  \n",
      "6871            10.0              9.2             Clear  \n",
      "6095            10.0              6.9     Mostly Cloudy  \n",
      "6402            10.0              5.8     Mostly Cloudy  \n",
      "968             10.0             16.1     Mostly Cloudy  \n",
      "8786            10.0              6.9     Mostly Cloudy  \n",
      "\n",
      "[5530 rows x 8 columns]\n"
     ]
    }
   ],
   "source": [
    "print(x_train)"
   ],
   "metadata": {
    "collapsed": false,
    "pycharm": {
     "name": "#%%\n"
    }
   }
  },
  {
   "cell_type": "code",
   "execution_count": 29,
   "outputs": [
    {
     "data": {
      "text/plain": "<bound method DataFrame.info of        Severity Zipcode Sunrise_Sunset  Temperature(F)  Humidity(%)  \\\n0             3   43017          Night            42.1         58.0   \n4             3   45217            Day            37.0         93.0   \n5             2   45176            Day            35.6        100.0   \n6             2   45404            Day            33.8        100.0   \n7             2   44130            Day            33.1         92.0   \n...         ...     ...            ...             ...          ...   \n9996          2   92801            Day            68.0         52.0   \n9997          2   91343            Day            64.9         56.0   \n9998          2   92708            Day            64.9         61.0   \n9999          2   92029            Day            63.0         72.0   \n10000         2   92021            Day            66.2         56.0   \n\n       Pressure(in)  Visibility(mi)  Wind_Speed(mph) Weather_Condition  \n0             29.76            10.0             10.4        Light Rain  \n4             29.69            10.0             10.4        Light Rain  \n5             29.66            10.0              8.1          Overcast  \n6             29.63             3.0              2.3     Mostly Cloudy  \n7             29.63             0.5              3.5              Snow  \n...             ...             ...              ...               ...  \n9996          30.06            10.0              3.5     Mostly Cloudy  \n9997          30.05            10.0              3.5     Partly Cloudy  \n9998          30.07            10.0              6.9     Mostly Cloudy  \n9999          30.06            10.0              5.8          Overcast  \n10000         30.07            10.0              5.8          Overcast  \n\n[8255 rows x 9 columns]>"
     },
     "execution_count": 29,
     "metadata": {},
     "output_type": "execute_result"
    }
   ],
   "source": [
    "df_sel.info"
   ],
   "metadata": {
    "collapsed": false,
    "pycharm": {
     "name": "#%%\n"
    }
   }
  },
  {
   "cell_type": "code",
   "execution_count": 30,
   "outputs": [
    {
     "ename": "KeyError",
     "evalue": "'True: boolean label can not be used without a boolean index'",
     "output_type": "error",
     "traceback": [
      "\u001B[0;31m---------------------------------------------------------------------------\u001B[0m",
      "\u001B[0;31mKeyError\u001B[0m                                  Traceback (most recent call last)",
      "Cell \u001B[0;32mIn [30], line 1\u001B[0m\n\u001B[0;32m----> 1\u001B[0m \u001B[43mdf_sel\u001B[49m\u001B[38;5;241;43m.\u001B[39;49m\u001B[43mloc\u001B[49m\u001B[43m[\u001B[49m\u001B[38;5;28;43mlen\u001B[39;49m\u001B[43m(\u001B[49m\u001B[43mdf_sel\u001B[49m\u001B[43m[\u001B[49m\u001B[38;5;124;43m'\u001B[39;49m\u001B[38;5;124;43mZipcode\u001B[39;49m\u001B[38;5;124;43m'\u001B[39;49m\u001B[43m]\u001B[49m\u001B[43m)\u001B[49m\u001B[43m \u001B[49m\u001B[38;5;241;43m>\u001B[39;49m\u001B[43m \u001B[49m\u001B[38;5;241;43m5\u001B[39;49m\u001B[43m]\u001B[49m\n",
      "File \u001B[0;32m~/Documents/18755/Project/Group Project/Car-Accidents-Network/env/lib/python3.10/site-packages/pandas/core/indexing.py:1073\u001B[0m, in \u001B[0;36m_LocationIndexer.__getitem__\u001B[0;34m(self, key)\u001B[0m\n\u001B[1;32m   1070\u001B[0m axis \u001B[38;5;241m=\u001B[39m \u001B[38;5;28mself\u001B[39m\u001B[38;5;241m.\u001B[39maxis \u001B[38;5;129;01mor\u001B[39;00m \u001B[38;5;241m0\u001B[39m\n\u001B[1;32m   1072\u001B[0m maybe_callable \u001B[38;5;241m=\u001B[39m com\u001B[38;5;241m.\u001B[39mapply_if_callable(key, \u001B[38;5;28mself\u001B[39m\u001B[38;5;241m.\u001B[39mobj)\n\u001B[0;32m-> 1073\u001B[0m \u001B[38;5;28;01mreturn\u001B[39;00m \u001B[38;5;28;43mself\u001B[39;49m\u001B[38;5;241;43m.\u001B[39;49m\u001B[43m_getitem_axis\u001B[49m\u001B[43m(\u001B[49m\u001B[43mmaybe_callable\u001B[49m\u001B[43m,\u001B[49m\u001B[43m \u001B[49m\u001B[43maxis\u001B[49m\u001B[38;5;241;43m=\u001B[39;49m\u001B[43maxis\u001B[49m\u001B[43m)\u001B[49m\n",
      "File \u001B[0;32m~/Documents/18755/Project/Group Project/Car-Accidents-Network/env/lib/python3.10/site-packages/pandas/core/indexing.py:1311\u001B[0m, in \u001B[0;36m_LocIndexer._getitem_axis\u001B[0;34m(self, key, axis)\u001B[0m\n\u001B[1;32m   1308\u001B[0m         \u001B[38;5;28;01mreturn\u001B[39;00m \u001B[38;5;28mself\u001B[39m\u001B[38;5;241m.\u001B[39mobj\u001B[38;5;241m.\u001B[39miloc[\u001B[38;5;28mtuple\u001B[39m(indexer)]\n\u001B[1;32m   1310\u001B[0m \u001B[38;5;66;03m# fall thru to straight lookup\u001B[39;00m\n\u001B[0;32m-> 1311\u001B[0m \u001B[38;5;28;43mself\u001B[39;49m\u001B[38;5;241;43m.\u001B[39;49m\u001B[43m_validate_key\u001B[49m\u001B[43m(\u001B[49m\u001B[43mkey\u001B[49m\u001B[43m,\u001B[49m\u001B[43m \u001B[49m\u001B[43maxis\u001B[49m\u001B[43m)\u001B[49m\n\u001B[1;32m   1312\u001B[0m \u001B[38;5;28;01mreturn\u001B[39;00m \u001B[38;5;28mself\u001B[39m\u001B[38;5;241m.\u001B[39m_get_label(key, axis\u001B[38;5;241m=\u001B[39maxis)\n",
      "File \u001B[0;32m~/Documents/18755/Project/Group Project/Car-Accidents-Network/env/lib/python3.10/site-packages/pandas/core/indexing.py:1118\u001B[0m, in \u001B[0;36m_LocIndexer._validate_key\u001B[0;34m(self, key, axis)\u001B[0m\n\u001B[1;32m   1108\u001B[0m \u001B[38;5;129m@doc\u001B[39m(_LocationIndexer\u001B[38;5;241m.\u001B[39m_validate_key)\n\u001B[1;32m   1109\u001B[0m \u001B[38;5;28;01mdef\u001B[39;00m \u001B[38;5;21m_validate_key\u001B[39m(\u001B[38;5;28mself\u001B[39m, key, axis: \u001B[38;5;28mint\u001B[39m):\n\u001B[1;32m   1110\u001B[0m     \u001B[38;5;66;03m# valid for a collection of labels (we check their presence later)\u001B[39;00m\n\u001B[1;32m   1111\u001B[0m     \u001B[38;5;66;03m# slice of labels (where start-end in labels)\u001B[39;00m\n\u001B[1;32m   1112\u001B[0m     \u001B[38;5;66;03m# slice of integers (only if in the labels)\u001B[39;00m\n\u001B[1;32m   1113\u001B[0m     \u001B[38;5;66;03m# boolean not in slice and with boolean index\u001B[39;00m\n\u001B[1;32m   1114\u001B[0m     \u001B[38;5;28;01mif\u001B[39;00m \u001B[38;5;28misinstance\u001B[39m(key, \u001B[38;5;28mbool\u001B[39m) \u001B[38;5;129;01mand\u001B[39;00m \u001B[38;5;129;01mnot\u001B[39;00m (\n\u001B[1;32m   1115\u001B[0m         is_bool_dtype(\u001B[38;5;28mself\u001B[39m\u001B[38;5;241m.\u001B[39mobj\u001B[38;5;241m.\u001B[39m_get_axis(axis))\n\u001B[1;32m   1116\u001B[0m         \u001B[38;5;129;01mor\u001B[39;00m \u001B[38;5;28mself\u001B[39m\u001B[38;5;241m.\u001B[39mobj\u001B[38;5;241m.\u001B[39m_get_axis(axis)\u001B[38;5;241m.\u001B[39mdtype\u001B[38;5;241m.\u001B[39mname \u001B[38;5;241m==\u001B[39m \u001B[38;5;124m\"\u001B[39m\u001B[38;5;124mboolean\u001B[39m\u001B[38;5;124m\"\u001B[39m\n\u001B[1;32m   1117\u001B[0m     ):\n\u001B[0;32m-> 1118\u001B[0m         \u001B[38;5;28;01mraise\u001B[39;00m \u001B[38;5;167;01mKeyError\u001B[39;00m(\n\u001B[1;32m   1119\u001B[0m             \u001B[38;5;124mf\u001B[39m\u001B[38;5;124m\"\u001B[39m\u001B[38;5;132;01m{\u001B[39;00mkey\u001B[38;5;132;01m}\u001B[39;00m\u001B[38;5;124m: boolean label can not be used without a boolean index\u001B[39m\u001B[38;5;124m\"\u001B[39m\n\u001B[1;32m   1120\u001B[0m         )\n\u001B[1;32m   1122\u001B[0m     \u001B[38;5;28;01mif\u001B[39;00m \u001B[38;5;28misinstance\u001B[39m(key, \u001B[38;5;28mslice\u001B[39m) \u001B[38;5;129;01mand\u001B[39;00m (\n\u001B[1;32m   1123\u001B[0m         \u001B[38;5;28misinstance\u001B[39m(key\u001B[38;5;241m.\u001B[39mstart, \u001B[38;5;28mbool\u001B[39m) \u001B[38;5;129;01mor\u001B[39;00m \u001B[38;5;28misinstance\u001B[39m(key\u001B[38;5;241m.\u001B[39mstop, \u001B[38;5;28mbool\u001B[39m)\n\u001B[1;32m   1124\u001B[0m     ):\n\u001B[1;32m   1125\u001B[0m         \u001B[38;5;28;01mraise\u001B[39;00m \u001B[38;5;167;01mTypeError\u001B[39;00m(\u001B[38;5;124mf\u001B[39m\u001B[38;5;124m\"\u001B[39m\u001B[38;5;132;01m{\u001B[39;00mkey\u001B[38;5;132;01m}\u001B[39;00m\u001B[38;5;124m: boolean values can not be used in a slice\u001B[39m\u001B[38;5;124m\"\u001B[39m)\n",
      "\u001B[0;31mKeyError\u001B[0m: 'True: boolean label can not be used without a boolean index'"
     ]
    }
   ],
   "source": [
    "df_sel.loc[len(df_sel['Zipcode']) > 5]"
   ],
   "metadata": {
    "collapsed": false,
    "pycharm": {
     "name": "#%%\n"
    }
   }
  },
  {
   "cell_type": "code",
   "execution_count": 33,
   "outputs": [
    {
     "data": {
      "text/plain": "      Severity     Zipcode Sunrise_Sunset  Temperature(F)  Humidity(%)  \\\n33           2  46235-6127            Day            19.4         86.0   \n39           4  43035-9415            Day            26.6         86.0   \n43           4  47373-9430          Night            19.9         81.0   \n44           4  47357-9741          Night            23.0         80.0   \n47           4  45898-9523          Night            17.1         77.0   \n...        ...         ...            ...             ...          ...   \n9906         2  90265-5762          Night            60.1         78.0   \n9941         2  92570-9528            Day            53.6         94.0   \n9944         2  91748-2943            Day            62.1         62.0   \n9955         2  90606-2196            Day            59.0         63.0   \n9973         2  90304-1934            Day            63.0         65.0   \n\n      Pressure(in)  Visibility(mi)  Wind_Speed(mph) Weather_Condition  \n33           29.76             5.0             16.1          Overcast  \n39           29.68             2.0             10.4        Light Snow  \n43           29.85             2.0             12.7        Light Snow  \n44           29.79             3.0             11.5        Light Snow  \n47           29.91             2.5             19.6        Light Snow  \n...            ...             ...              ...               ...  \n9906         30.08            10.0              3.5             Clear  \n9941         30.08            10.0              3.5     Mostly Cloudy  \n9944         30.07            10.0              5.8          Overcast  \n9955         30.10            10.0              3.5     Partly Cloudy  \n9973         30.08            10.0              4.6     Mostly Cloudy  \n\n[872 rows x 9 columns]",
      "text/html": "<div>\n<style scoped>\n    .dataframe tbody tr th:only-of-type {\n        vertical-align: middle;\n    }\n\n    .dataframe tbody tr th {\n        vertical-align: top;\n    }\n\n    .dataframe thead th {\n        text-align: right;\n    }\n</style>\n<table border=\"1\" class=\"dataframe\">\n  <thead>\n    <tr style=\"text-align: right;\">\n      <th></th>\n      <th>Severity</th>\n      <th>Zipcode</th>\n      <th>Sunrise_Sunset</th>\n      <th>Temperature(F)</th>\n      <th>Humidity(%)</th>\n      <th>Pressure(in)</th>\n      <th>Visibility(mi)</th>\n      <th>Wind_Speed(mph)</th>\n      <th>Weather_Condition</th>\n    </tr>\n  </thead>\n  <tbody>\n    <tr>\n      <th>33</th>\n      <td>2</td>\n      <td>46235-6127</td>\n      <td>Day</td>\n      <td>19.4</td>\n      <td>86.0</td>\n      <td>29.76</td>\n      <td>5.0</td>\n      <td>16.1</td>\n      <td>Overcast</td>\n    </tr>\n    <tr>\n      <th>39</th>\n      <td>4</td>\n      <td>43035-9415</td>\n      <td>Day</td>\n      <td>26.6</td>\n      <td>86.0</td>\n      <td>29.68</td>\n      <td>2.0</td>\n      <td>10.4</td>\n      <td>Light Snow</td>\n    </tr>\n    <tr>\n      <th>43</th>\n      <td>4</td>\n      <td>47373-9430</td>\n      <td>Night</td>\n      <td>19.9</td>\n      <td>81.0</td>\n      <td>29.85</td>\n      <td>2.0</td>\n      <td>12.7</td>\n      <td>Light Snow</td>\n    </tr>\n    <tr>\n      <th>44</th>\n      <td>4</td>\n      <td>47357-9741</td>\n      <td>Night</td>\n      <td>23.0</td>\n      <td>80.0</td>\n      <td>29.79</td>\n      <td>3.0</td>\n      <td>11.5</td>\n      <td>Light Snow</td>\n    </tr>\n    <tr>\n      <th>47</th>\n      <td>4</td>\n      <td>45898-9523</td>\n      <td>Night</td>\n      <td>17.1</td>\n      <td>77.0</td>\n      <td>29.91</td>\n      <td>2.5</td>\n      <td>19.6</td>\n      <td>Light Snow</td>\n    </tr>\n    <tr>\n      <th>...</th>\n      <td>...</td>\n      <td>...</td>\n      <td>...</td>\n      <td>...</td>\n      <td>...</td>\n      <td>...</td>\n      <td>...</td>\n      <td>...</td>\n      <td>...</td>\n    </tr>\n    <tr>\n      <th>9906</th>\n      <td>2</td>\n      <td>90265-5762</td>\n      <td>Night</td>\n      <td>60.1</td>\n      <td>78.0</td>\n      <td>30.08</td>\n      <td>10.0</td>\n      <td>3.5</td>\n      <td>Clear</td>\n    </tr>\n    <tr>\n      <th>9941</th>\n      <td>2</td>\n      <td>92570-9528</td>\n      <td>Day</td>\n      <td>53.6</td>\n      <td>94.0</td>\n      <td>30.08</td>\n      <td>10.0</td>\n      <td>3.5</td>\n      <td>Mostly Cloudy</td>\n    </tr>\n    <tr>\n      <th>9944</th>\n      <td>2</td>\n      <td>91748-2943</td>\n      <td>Day</td>\n      <td>62.1</td>\n      <td>62.0</td>\n      <td>30.07</td>\n      <td>10.0</td>\n      <td>5.8</td>\n      <td>Overcast</td>\n    </tr>\n    <tr>\n      <th>9955</th>\n      <td>2</td>\n      <td>90606-2196</td>\n      <td>Day</td>\n      <td>59.0</td>\n      <td>63.0</td>\n      <td>30.10</td>\n      <td>10.0</td>\n      <td>3.5</td>\n      <td>Partly Cloudy</td>\n    </tr>\n    <tr>\n      <th>9973</th>\n      <td>2</td>\n      <td>90304-1934</td>\n      <td>Day</td>\n      <td>63.0</td>\n      <td>65.0</td>\n      <td>30.08</td>\n      <td>10.0</td>\n      <td>4.6</td>\n      <td>Mostly Cloudy</td>\n    </tr>\n  </tbody>\n</table>\n<p>872 rows × 9 columns</p>\n</div>"
     },
     "execution_count": 33,
     "metadata": {},
     "output_type": "execute_result"
    }
   ],
   "source": [
    "df_sel.loc[df_sel['Zipcode'].str.len() > 5]"
   ],
   "metadata": {
    "collapsed": false,
    "pycharm": {
     "name": "#%%\n"
    }
   }
  },
  {
   "cell_type": "code",
   "execution_count": 32,
   "outputs": [
    {
     "data": {
      "text/plain": "0        43017\n4        45217\n5        45176\n6        45404\n7        44130\n         ...  \n9996     92801\n9997     91343\n9998     92708\n9999     92029\n10000    92021\nName: Zipcode, Length: 8255, dtype: object"
     },
     "execution_count": 32,
     "metadata": {},
     "output_type": "execute_result"
    }
   ],
   "source": [
    "df_sel['Zipcode'].str[:5]"
   ],
   "metadata": {
    "collapsed": false,
    "pycharm": {
     "name": "#%%\n"
    }
   }
  },
  {
   "cell_type": "code",
   "execution_count": 34,
   "outputs": [],
   "source": [
    "df_sel['Zipcode'] = df_sel['Zipcode'].str[:5]"
   ],
   "metadata": {
    "collapsed": false,
    "pycharm": {
     "name": "#%%\n"
    }
   }
  },
  {
   "cell_type": "code",
   "execution_count": 35,
   "outputs": [
    {
     "data": {
      "text/plain": "Empty DataFrame\nColumns: [Severity, Zipcode, Sunrise_Sunset, Temperature(F), Humidity(%), Pressure(in), Visibility(mi), Wind_Speed(mph), Weather_Condition]\nIndex: []",
      "text/html": "<div>\n<style scoped>\n    .dataframe tbody tr th:only-of-type {\n        vertical-align: middle;\n    }\n\n    .dataframe tbody tr th {\n        vertical-align: top;\n    }\n\n    .dataframe thead th {\n        text-align: right;\n    }\n</style>\n<table border=\"1\" class=\"dataframe\">\n  <thead>\n    <tr style=\"text-align: right;\">\n      <th></th>\n      <th>Severity</th>\n      <th>Zipcode</th>\n      <th>Sunrise_Sunset</th>\n      <th>Temperature(F)</th>\n      <th>Humidity(%)</th>\n      <th>Pressure(in)</th>\n      <th>Visibility(mi)</th>\n      <th>Wind_Speed(mph)</th>\n      <th>Weather_Condition</th>\n    </tr>\n  </thead>\n  <tbody>\n  </tbody>\n</table>\n</div>"
     },
     "execution_count": 35,
     "metadata": {},
     "output_type": "execute_result"
    }
   ],
   "source": [
    "df_sel.loc[df_sel['Zipcode'].str.len() > 5]"
   ],
   "metadata": {
    "collapsed": false,
    "pycharm": {
     "name": "#%%\n"
    }
   }
  },
  {
   "cell_type": "code",
   "execution_count": 39,
   "outputs": [],
   "source": [
    "day_night_map = {\n",
    "    'Night': 0,\n",
    "    'Day': 1\n",
    "}\n",
    "\n",
    "df_sel['Sunrise_Sunset'] = df_sel['Sunrise_Sunset'].map(day_night_map)"
   ],
   "metadata": {
    "collapsed": false,
    "pycharm": {
     "name": "#%%\n"
    }
   }
  },
  {
   "cell_type": "code",
   "execution_count": 40,
   "outputs": [
    {
     "data": {
      "text/plain": "<bound method DataFrame.info of        Severity Zipcode  Sunrise_Sunset  Temperature(F)  Humidity(%)  \\\n0             3   43017               0            42.1         58.0   \n4             3   45217               1            37.0         93.0   \n5             2   45176               1            35.6        100.0   \n6             2   45404               1            33.8        100.0   \n7             2   44130               1            33.1         92.0   \n...         ...     ...             ...             ...          ...   \n9996          2   92801               1            68.0         52.0   \n9997          2   91343               1            64.9         56.0   \n9998          2   92708               1            64.9         61.0   \n9999          2   92029               1            63.0         72.0   \n10000         2   92021               1            66.2         56.0   \n\n       Pressure(in)  Visibility(mi)  Wind_Speed(mph) Weather_Condition  \n0             29.76            10.0             10.4        Light Rain  \n4             29.69            10.0             10.4        Light Rain  \n5             29.66            10.0              8.1          Overcast  \n6             29.63             3.0              2.3     Mostly Cloudy  \n7             29.63             0.5              3.5              Snow  \n...             ...             ...              ...               ...  \n9996          30.06            10.0              3.5     Mostly Cloudy  \n9997          30.05            10.0              3.5     Partly Cloudy  \n9998          30.07            10.0              6.9     Mostly Cloudy  \n9999          30.06            10.0              5.8          Overcast  \n10000         30.07            10.0              5.8          Overcast  \n\n[8255 rows x 9 columns]>"
     },
     "execution_count": 40,
     "metadata": {},
     "output_type": "execute_result"
    }
   ],
   "source": [
    "df_sel.info"
   ],
   "metadata": {
    "collapsed": false,
    "pycharm": {
     "name": "#%%\n"
    }
   }
  },
  {
   "cell_type": "code",
   "execution_count": 42,
   "outputs": [
    {
     "data": {
      "text/plain": "0        0\n4        1\n5        1\n6        1\n7        1\n        ..\n9996     1\n9997     1\n9998     1\n9999     1\n10000    1\nName: Sunrise_Sunset, Length: 8255, dtype: int64"
     },
     "execution_count": 42,
     "metadata": {},
     "output_type": "execute_result"
    }
   ],
   "source": [
    "df_sel['Sunrise_Sunset']"
   ],
   "metadata": {
    "collapsed": false,
    "pycharm": {
     "name": "#%%\n"
    }
   }
  },
  {
   "cell_type": "code",
   "execution_count": 43,
   "outputs": [
    {
     "data": {
      "text/plain": "    Severity Zipcode  Sunrise_Sunset  Temperature(F)  Humidity(%)  \\\n0          3   43017               0            42.1         58.0   \n4          3   45217               1            37.0         93.0   \n5          2   45176               1            35.6        100.0   \n6          2   45404               1            33.8        100.0   \n7          2   44130               1            33.1         92.0   \n8          2   45806               1            39.0         70.0   \n9          2   43081               1            32.0        100.0   \n10         2   45216               1            33.8        100.0   \n11         2   45225               1            35.1         96.0   \n12         2   44113               1            33.1         96.0   \n\n    Pressure(in)  Visibility(mi)  Wind_Speed(mph) Weather_Condition  \n0          29.76            10.0             10.4        Light Rain  \n4          29.69            10.0             10.4        Light Rain  \n5          29.66            10.0              8.1          Overcast  \n6          29.63             3.0              2.3     Mostly Cloudy  \n7          29.63             0.5              3.5              Snow  \n8          29.59            10.0             11.5          Overcast  \n9          29.59             0.5              3.5              Snow  \n10         29.66             3.0              4.6        Light Snow  \n11         29.69            10.0              3.5          Overcast  \n12         29.59             1.8             11.5        Light Snow  ",
      "text/html": "<div>\n<style scoped>\n    .dataframe tbody tr th:only-of-type {\n        vertical-align: middle;\n    }\n\n    .dataframe tbody tr th {\n        vertical-align: top;\n    }\n\n    .dataframe thead th {\n        text-align: right;\n    }\n</style>\n<table border=\"1\" class=\"dataframe\">\n  <thead>\n    <tr style=\"text-align: right;\">\n      <th></th>\n      <th>Severity</th>\n      <th>Zipcode</th>\n      <th>Sunrise_Sunset</th>\n      <th>Temperature(F)</th>\n      <th>Humidity(%)</th>\n      <th>Pressure(in)</th>\n      <th>Visibility(mi)</th>\n      <th>Wind_Speed(mph)</th>\n      <th>Weather_Condition</th>\n    </tr>\n  </thead>\n  <tbody>\n    <tr>\n      <th>0</th>\n      <td>3</td>\n      <td>43017</td>\n      <td>0</td>\n      <td>42.1</td>\n      <td>58.0</td>\n      <td>29.76</td>\n      <td>10.0</td>\n      <td>10.4</td>\n      <td>Light Rain</td>\n    </tr>\n    <tr>\n      <th>4</th>\n      <td>3</td>\n      <td>45217</td>\n      <td>1</td>\n      <td>37.0</td>\n      <td>93.0</td>\n      <td>29.69</td>\n      <td>10.0</td>\n      <td>10.4</td>\n      <td>Light Rain</td>\n    </tr>\n    <tr>\n      <th>5</th>\n      <td>2</td>\n      <td>45176</td>\n      <td>1</td>\n      <td>35.6</td>\n      <td>100.0</td>\n      <td>29.66</td>\n      <td>10.0</td>\n      <td>8.1</td>\n      <td>Overcast</td>\n    </tr>\n    <tr>\n      <th>6</th>\n      <td>2</td>\n      <td>45404</td>\n      <td>1</td>\n      <td>33.8</td>\n      <td>100.0</td>\n      <td>29.63</td>\n      <td>3.0</td>\n      <td>2.3</td>\n      <td>Mostly Cloudy</td>\n    </tr>\n    <tr>\n      <th>7</th>\n      <td>2</td>\n      <td>44130</td>\n      <td>1</td>\n      <td>33.1</td>\n      <td>92.0</td>\n      <td>29.63</td>\n      <td>0.5</td>\n      <td>3.5</td>\n      <td>Snow</td>\n    </tr>\n    <tr>\n      <th>8</th>\n      <td>2</td>\n      <td>45806</td>\n      <td>1</td>\n      <td>39.0</td>\n      <td>70.0</td>\n      <td>29.59</td>\n      <td>10.0</td>\n      <td>11.5</td>\n      <td>Overcast</td>\n    </tr>\n    <tr>\n      <th>9</th>\n      <td>2</td>\n      <td>43081</td>\n      <td>1</td>\n      <td>32.0</td>\n      <td>100.0</td>\n      <td>29.59</td>\n      <td>0.5</td>\n      <td>3.5</td>\n      <td>Snow</td>\n    </tr>\n    <tr>\n      <th>10</th>\n      <td>2</td>\n      <td>45216</td>\n      <td>1</td>\n      <td>33.8</td>\n      <td>100.0</td>\n      <td>29.66</td>\n      <td>3.0</td>\n      <td>4.6</td>\n      <td>Light Snow</td>\n    </tr>\n    <tr>\n      <th>11</th>\n      <td>2</td>\n      <td>45225</td>\n      <td>1</td>\n      <td>35.1</td>\n      <td>96.0</td>\n      <td>29.69</td>\n      <td>10.0</td>\n      <td>3.5</td>\n      <td>Overcast</td>\n    </tr>\n    <tr>\n      <th>12</th>\n      <td>2</td>\n      <td>44113</td>\n      <td>1</td>\n      <td>33.1</td>\n      <td>96.0</td>\n      <td>29.59</td>\n      <td>1.8</td>\n      <td>11.5</td>\n      <td>Light Snow</td>\n    </tr>\n  </tbody>\n</table>\n</div>"
     },
     "execution_count": 43,
     "metadata": {},
     "output_type": "execute_result"
    }
   ],
   "source": [
    "df_sel.head(10)"
   ],
   "metadata": {
    "collapsed": false,
    "pycharm": {
     "name": "#%%\n"
    }
   }
  },
  {
   "cell_type": "code",
   "execution_count": 44,
   "outputs": [],
   "source": [
    "n = len(pd.unique(df_sel['Weather_Condition']))"
   ],
   "metadata": {
    "collapsed": false,
    "pycharm": {
     "name": "#%%\n"
    }
   }
  },
  {
   "cell_type": "code",
   "execution_count": 45,
   "outputs": [
    {
     "name": "stdout",
     "output_type": "stream",
     "text": [
      "23\n"
     ]
    }
   ],
   "source": [
    "print(n)"
   ],
   "metadata": {
    "collapsed": false,
    "pycharm": {
     "name": "#%%\n"
    }
   }
  },
  {
   "cell_type": "code",
   "execution_count": 49,
   "outputs": [
    {
     "name": "stdout",
     "output_type": "stream",
     "text": [
      "defaultdict(<class 'int'>, {'Light Rain': 200, 'Overcast': 1587, 'Mostly Cloudy': 1365, 'Snow': 14, 'Light Snow': 119, 'Cloudy': 19, nan: 115, 'Scattered Clouds': 1005, 'Clear': 4234, 'Partly Cloudy': 1045, 'Light Freezing Drizzle': 4, 'Light Drizzle': 9, 'Haze': 169, 'Rain': 43, 'Heavy Rain': 5, 'Fair': 43, 'Drizzle': 5, 'Fog': 7, 'Thunderstorms and Rain': 1, 'Patches of Fog': 1, 'Light Thunderstorms and Rain': 1, 'Mist': 3, 'Rain Showers': 3, 'Light Rain Showers': 1, 'Heavy Drizzle': 3})\n"
     ]
    }
   ],
   "source": [
    "from collections import defaultdict\n",
    "\n",
    "visited = defaultdict(int)\n",
    "\n",
    "for i in range(0, len(df['Weather_Condition'])):\n",
    "    if df['Weather_Condition'][i] not in visited:\n",
    "        temp = df['Weather_Condition'][i]\n",
    "        visited[temp] += 1\n",
    "    else:\n",
    "        temp = df['Weather_Condition'][i]\n",
    "        visited[temp] += 1\n",
    "print(visited)"
   ],
   "metadata": {
    "collapsed": false,
    "pycharm": {
     "name": "#%%\n"
    }
   }
  },
  {
   "cell_type": "code",
   "execution_count": 48,
   "outputs": [
    {
     "name": "stdout",
     "output_type": "stream",
     "text": [
      "Light Rain\n",
      "Overcast\n",
      "Mostly Cloudy\n",
      "Snow\n",
      "Light Snow\n",
      "Cloudy\n",
      "nan\n",
      "Scattered Clouds\n",
      "Clear\n",
      "Partly Cloudy\n",
      "Light Freezing Drizzle\n",
      "Light Drizzle\n",
      "Haze\n",
      "Rain\n",
      "Heavy Rain\n",
      "Fair\n",
      "Drizzle\n",
      "Fog\n",
      "Thunderstorms and Rain\n",
      "Patches of Fog\n",
      "Light Thunderstorms and Rain\n",
      "Mist\n",
      "Rain Showers\n",
      "Light Rain Showers\n",
      "Heavy Drizzle\n"
     ]
    }
   ],
   "source": [
    "for key in visited.keys():\n",
    "    print(key)"
   ],
   "metadata": {
    "collapsed": false,
    "pycharm": {
     "name": "#%%\n"
    }
   }
  },
  {
   "cell_type": "code",
   "execution_count": 50,
   "outputs": [
    {
     "name": "stdout",
     "output_type": "stream",
     "text": [
      "25\n"
     ]
    }
   ],
   "source": [
    "weather_map = {\n",
    "    'Light Rain': 0,\n",
    "    'Overcast': 1,\n",
    "    'Mostly Cloudy': 2,\n",
    "    'Snow': 3,\n",
    "    'Light Snow': 4,\n",
    "    'Cloudy': 5,\n",
    "    'nan': 6,\n",
    "    'Scattered Clouds': 7,\n",
    "    'Clear': 8,\n",
    "    'Partly Cloudy': 9,\n",
    "    'Light Freezing Drizzle': 10,\n",
    "    'Light Drizzle': 11,\n",
    "    'Haze': 12,\n",
    "    'Rain': 13,\n",
    "    'Heavy Rain': 14,\n",
    "    'Fair': 15,\n",
    "    'Drizzle': 16,\n",
    "    'Fog': 17,\n",
    "    'Thunderstorms and Rain': 18,\n",
    "    'Patches of Fog': 19,\n",
    "    'Light Thunderstorms and Rain': 20,\n",
    "    'Mist': 21,\n",
    "    'Rain Showers': 22,\n",
    "    'Light Rain Showers': 23,\n",
    "    'Heavy Drizzle': 24\n",
    "}\n",
    "\n",
    "print(len(visited))"
   ],
   "metadata": {
    "collapsed": false,
    "pycharm": {
     "name": "#%%\n"
    }
   }
  },
  {
   "cell_type": "code",
   "execution_count": 51,
   "outputs": [],
   "source": [
    "df_sel['Weather_Condition'] = df_sel['Weather_Condition'].map(weather_map)"
   ],
   "metadata": {
    "collapsed": false,
    "pycharm": {
     "name": "#%%\n"
    }
   }
  },
  {
   "cell_type": "code",
   "execution_count": 52,
   "outputs": [
    {
     "data": {
      "text/plain": "    Severity Zipcode  Sunrise_Sunset  Temperature(F)  Humidity(%)  \\\n0          3   43017               0            42.1         58.0   \n4          3   45217               1            37.0         93.0   \n5          2   45176               1            35.6        100.0   \n6          2   45404               1            33.8        100.0   \n7          2   44130               1            33.1         92.0   \n8          2   45806               1            39.0         70.0   \n9          2   43081               1            32.0        100.0   \n10         2   45216               1            33.8        100.0   \n11         2   45225               1            35.1         96.0   \n12         2   44113               1            33.1         96.0   \n13         2   45335               1            33.8         93.0   \n18         3   43224               0            33.8        100.0   \n19         4   43610               0            33.4         79.0   \n20         2   46783               0            28.0         88.0   \n21         3   41017               0            26.6         80.0   \n22         2   43224               0            25.0         88.0   \n23         2   45415               0            23.0         88.0   \n24         2   45223               0            21.0         88.0   \n25         2   46124               0            19.0        100.0   \n26         4   45324               0            23.0         86.0   \n\n    Pressure(in)  Visibility(mi)  Wind_Speed(mph)  Weather_Condition  \n0          29.76            10.0             10.4                  0  \n4          29.69            10.0             10.4                  0  \n5          29.66            10.0              8.1                  1  \n6          29.63             3.0              2.3                  2  \n7          29.63             0.5              3.5                  3  \n8          29.59            10.0             11.5                  1  \n9          29.59             0.5              3.5                  3  \n10         29.66             3.0              4.6                  4  \n11         29.69            10.0              3.5                  1  \n12         29.59             1.8             11.5                  4  \n13         29.64             1.0              5.8                  4  \n18         29.63             1.0              8.1                  4  \n19         29.62            10.0              8.1                  1  \n20         29.71             8.0             16.1                  4  \n21         29.73             3.0             13.8                  4  \n22         29.65             1.0              9.2                  4  \n23         29.66             2.0             15.0                  4  \n24         29.78             1.5             11.5                  4  \n25         29.05             2.0              9.0                  5  \n26         29.68             1.5             10.4                  4  ",
      "text/html": "<div>\n<style scoped>\n    .dataframe tbody tr th:only-of-type {\n        vertical-align: middle;\n    }\n\n    .dataframe tbody tr th {\n        vertical-align: top;\n    }\n\n    .dataframe thead th {\n        text-align: right;\n    }\n</style>\n<table border=\"1\" class=\"dataframe\">\n  <thead>\n    <tr style=\"text-align: right;\">\n      <th></th>\n      <th>Severity</th>\n      <th>Zipcode</th>\n      <th>Sunrise_Sunset</th>\n      <th>Temperature(F)</th>\n      <th>Humidity(%)</th>\n      <th>Pressure(in)</th>\n      <th>Visibility(mi)</th>\n      <th>Wind_Speed(mph)</th>\n      <th>Weather_Condition</th>\n    </tr>\n  </thead>\n  <tbody>\n    <tr>\n      <th>0</th>\n      <td>3</td>\n      <td>43017</td>\n      <td>0</td>\n      <td>42.1</td>\n      <td>58.0</td>\n      <td>29.76</td>\n      <td>10.0</td>\n      <td>10.4</td>\n      <td>0</td>\n    </tr>\n    <tr>\n      <th>4</th>\n      <td>3</td>\n      <td>45217</td>\n      <td>1</td>\n      <td>37.0</td>\n      <td>93.0</td>\n      <td>29.69</td>\n      <td>10.0</td>\n      <td>10.4</td>\n      <td>0</td>\n    </tr>\n    <tr>\n      <th>5</th>\n      <td>2</td>\n      <td>45176</td>\n      <td>1</td>\n      <td>35.6</td>\n      <td>100.0</td>\n      <td>29.66</td>\n      <td>10.0</td>\n      <td>8.1</td>\n      <td>1</td>\n    </tr>\n    <tr>\n      <th>6</th>\n      <td>2</td>\n      <td>45404</td>\n      <td>1</td>\n      <td>33.8</td>\n      <td>100.0</td>\n      <td>29.63</td>\n      <td>3.0</td>\n      <td>2.3</td>\n      <td>2</td>\n    </tr>\n    <tr>\n      <th>7</th>\n      <td>2</td>\n      <td>44130</td>\n      <td>1</td>\n      <td>33.1</td>\n      <td>92.0</td>\n      <td>29.63</td>\n      <td>0.5</td>\n      <td>3.5</td>\n      <td>3</td>\n    </tr>\n    <tr>\n      <th>8</th>\n      <td>2</td>\n      <td>45806</td>\n      <td>1</td>\n      <td>39.0</td>\n      <td>70.0</td>\n      <td>29.59</td>\n      <td>10.0</td>\n      <td>11.5</td>\n      <td>1</td>\n    </tr>\n    <tr>\n      <th>9</th>\n      <td>2</td>\n      <td>43081</td>\n      <td>1</td>\n      <td>32.0</td>\n      <td>100.0</td>\n      <td>29.59</td>\n      <td>0.5</td>\n      <td>3.5</td>\n      <td>3</td>\n    </tr>\n    <tr>\n      <th>10</th>\n      <td>2</td>\n      <td>45216</td>\n      <td>1</td>\n      <td>33.8</td>\n      <td>100.0</td>\n      <td>29.66</td>\n      <td>3.0</td>\n      <td>4.6</td>\n      <td>4</td>\n    </tr>\n    <tr>\n      <th>11</th>\n      <td>2</td>\n      <td>45225</td>\n      <td>1</td>\n      <td>35.1</td>\n      <td>96.0</td>\n      <td>29.69</td>\n      <td>10.0</td>\n      <td>3.5</td>\n      <td>1</td>\n    </tr>\n    <tr>\n      <th>12</th>\n      <td>2</td>\n      <td>44113</td>\n      <td>1</td>\n      <td>33.1</td>\n      <td>96.0</td>\n      <td>29.59</td>\n      <td>1.8</td>\n      <td>11.5</td>\n      <td>4</td>\n    </tr>\n    <tr>\n      <th>13</th>\n      <td>2</td>\n      <td>45335</td>\n      <td>1</td>\n      <td>33.8</td>\n      <td>93.0</td>\n      <td>29.64</td>\n      <td>1.0</td>\n      <td>5.8</td>\n      <td>4</td>\n    </tr>\n    <tr>\n      <th>18</th>\n      <td>3</td>\n      <td>43224</td>\n      <td>0</td>\n      <td>33.8</td>\n      <td>100.0</td>\n      <td>29.63</td>\n      <td>1.0</td>\n      <td>8.1</td>\n      <td>4</td>\n    </tr>\n    <tr>\n      <th>19</th>\n      <td>4</td>\n      <td>43610</td>\n      <td>0</td>\n      <td>33.4</td>\n      <td>79.0</td>\n      <td>29.62</td>\n      <td>10.0</td>\n      <td>8.1</td>\n      <td>1</td>\n    </tr>\n    <tr>\n      <th>20</th>\n      <td>2</td>\n      <td>46783</td>\n      <td>0</td>\n      <td>28.0</td>\n      <td>88.0</td>\n      <td>29.71</td>\n      <td>8.0</td>\n      <td>16.1</td>\n      <td>4</td>\n    </tr>\n    <tr>\n      <th>21</th>\n      <td>3</td>\n      <td>41017</td>\n      <td>0</td>\n      <td>26.6</td>\n      <td>80.0</td>\n      <td>29.73</td>\n      <td>3.0</td>\n      <td>13.8</td>\n      <td>4</td>\n    </tr>\n    <tr>\n      <th>22</th>\n      <td>2</td>\n      <td>43224</td>\n      <td>0</td>\n      <td>25.0</td>\n      <td>88.0</td>\n      <td>29.65</td>\n      <td>1.0</td>\n      <td>9.2</td>\n      <td>4</td>\n    </tr>\n    <tr>\n      <th>23</th>\n      <td>2</td>\n      <td>45415</td>\n      <td>0</td>\n      <td>23.0</td>\n      <td>88.0</td>\n      <td>29.66</td>\n      <td>2.0</td>\n      <td>15.0</td>\n      <td>4</td>\n    </tr>\n    <tr>\n      <th>24</th>\n      <td>2</td>\n      <td>45223</td>\n      <td>0</td>\n      <td>21.0</td>\n      <td>88.0</td>\n      <td>29.78</td>\n      <td>1.5</td>\n      <td>11.5</td>\n      <td>4</td>\n    </tr>\n    <tr>\n      <th>25</th>\n      <td>2</td>\n      <td>46124</td>\n      <td>0</td>\n      <td>19.0</td>\n      <td>100.0</td>\n      <td>29.05</td>\n      <td>2.0</td>\n      <td>9.0</td>\n      <td>5</td>\n    </tr>\n    <tr>\n      <th>26</th>\n      <td>4</td>\n      <td>45324</td>\n      <td>0</td>\n      <td>23.0</td>\n      <td>86.0</td>\n      <td>29.68</td>\n      <td>1.5</td>\n      <td>10.4</td>\n      <td>4</td>\n    </tr>\n  </tbody>\n</table>\n</div>"
     },
     "execution_count": 52,
     "metadata": {},
     "output_type": "execute_result"
    }
   ],
   "source": [
    "df_sel.head(20)"
   ],
   "metadata": {
    "collapsed": false,
    "pycharm": {
     "name": "#%%\n"
    }
   }
  },
  {
   "cell_type": "code",
   "execution_count": 57,
   "outputs": [
    {
     "name": "stdout",
     "output_type": "stream",
     "text": [
      "[0.8271559633027523]\n"
     ]
    }
   ],
   "source": [
    "X = df_sel.drop(target, axis=1)\n",
    "Y = df_sel[target]\n",
    "\n",
    "x_train, x_test, y_train, y_test = train_test_split(X, Y, test_size=0.33, random_state=42)\n",
    "\n",
    "lr = LogisticRegression(random_state=42)\n",
    "lr.fit(x_train, y_train)\n",
    "y_pred = lr.predict(x_test)\n",
    "\n",
    "acc = metrics.accuracy_score(y_test, y_pred)\n",
    "\n",
    "accuracy_lst = []\n",
    "accuracy_lst.append(acc)\n",
    "\n",
    "print(accuracy_lst)"
   ],
   "metadata": {
    "collapsed": false,
    "pycharm": {
     "name": "#%%\n"
    }
   }
  },
  {
   "cell_type": "code",
   "execution_count": 58,
   "outputs": [
    {
     "data": {
      "text/plain": "GridSearchCV(cv=10, estimator=DecisionTreeClassifier(),\n             param_grid={'criterion': ['gini', 'entropy'],\n                         'max_depth': [10, 21],\n                         'min_samples_leaf': [1, 5, 10, 20, 50, 100]},\n             return_train_score=True, scoring='accuracy')",
      "text/html": "<style>#sk-container-id-1 {color: black;background-color: white;}#sk-container-id-1 pre{padding: 0;}#sk-container-id-1 div.sk-toggleable {background-color: white;}#sk-container-id-1 label.sk-toggleable__label {cursor: pointer;display: block;width: 100%;margin-bottom: 0;padding: 0.3em;box-sizing: border-box;text-align: center;}#sk-container-id-1 label.sk-toggleable__label-arrow:before {content: \"▸\";float: left;margin-right: 0.25em;color: #696969;}#sk-container-id-1 label.sk-toggleable__label-arrow:hover:before {color: black;}#sk-container-id-1 div.sk-estimator:hover label.sk-toggleable__label-arrow:before {color: black;}#sk-container-id-1 div.sk-toggleable__content {max-height: 0;max-width: 0;overflow: hidden;text-align: left;background-color: #f0f8ff;}#sk-container-id-1 div.sk-toggleable__content pre {margin: 0.2em;color: black;border-radius: 0.25em;background-color: #f0f8ff;}#sk-container-id-1 input.sk-toggleable__control:checked~div.sk-toggleable__content {max-height: 200px;max-width: 100%;overflow: auto;}#sk-container-id-1 input.sk-toggleable__control:checked~label.sk-toggleable__label-arrow:before {content: \"▾\";}#sk-container-id-1 div.sk-estimator input.sk-toggleable__control:checked~label.sk-toggleable__label {background-color: #d4ebff;}#sk-container-id-1 div.sk-label input.sk-toggleable__control:checked~label.sk-toggleable__label {background-color: #d4ebff;}#sk-container-id-1 input.sk-hidden--visually {border: 0;clip: rect(1px 1px 1px 1px);clip: rect(1px, 1px, 1px, 1px);height: 1px;margin: -1px;overflow: hidden;padding: 0;position: absolute;width: 1px;}#sk-container-id-1 div.sk-estimator {font-family: monospace;background-color: #f0f8ff;border: 1px dotted black;border-radius: 0.25em;box-sizing: border-box;margin-bottom: 0.5em;}#sk-container-id-1 div.sk-estimator:hover {background-color: #d4ebff;}#sk-container-id-1 div.sk-parallel-item::after {content: \"\";width: 100%;border-bottom: 1px solid gray;flex-grow: 1;}#sk-container-id-1 div.sk-label:hover label.sk-toggleable__label {background-color: #d4ebff;}#sk-container-id-1 div.sk-serial::before {content: \"\";position: absolute;border-left: 1px solid gray;box-sizing: border-box;top: 0;bottom: 0;left: 50%;z-index: 0;}#sk-container-id-1 div.sk-serial {display: flex;flex-direction: column;align-items: center;background-color: white;padding-right: 0.2em;padding-left: 0.2em;position: relative;}#sk-container-id-1 div.sk-item {position: relative;z-index: 1;}#sk-container-id-1 div.sk-parallel {display: flex;align-items: stretch;justify-content: center;background-color: white;position: relative;}#sk-container-id-1 div.sk-item::before, #sk-container-id-1 div.sk-parallel-item::before {content: \"\";position: absolute;border-left: 1px solid gray;box-sizing: border-box;top: 0;bottom: 0;left: 50%;z-index: -1;}#sk-container-id-1 div.sk-parallel-item {display: flex;flex-direction: column;z-index: 1;position: relative;background-color: white;}#sk-container-id-1 div.sk-parallel-item:first-child::after {align-self: flex-end;width: 50%;}#sk-container-id-1 div.sk-parallel-item:last-child::after {align-self: flex-start;width: 50%;}#sk-container-id-1 div.sk-parallel-item:only-child::after {width: 0;}#sk-container-id-1 div.sk-dashed-wrapped {border: 1px dashed gray;margin: 0 0.4em 0.5em 0.4em;box-sizing: border-box;padding-bottom: 0.4em;background-color: white;}#sk-container-id-1 div.sk-label label {font-family: monospace;font-weight: bold;display: inline-block;line-height: 1.2em;}#sk-container-id-1 div.sk-label-container {text-align: center;}#sk-container-id-1 div.sk-container {/* jupyter's `normalize.less` sets `[hidden] { display: none; }` but bootstrap.min.css set `[hidden] { display: none !important; }` so we also need the `!important` here to be able to override the default hidden behavior on the sphinx rendered scikit-learn.org. See: https://github.com/scikit-learn/scikit-learn/issues/21755 */display: inline-block !important;position: relative;}#sk-container-id-1 div.sk-text-repr-fallback {display: none;}</style><div id=\"sk-container-id-1\" class=\"sk-top-container\"><div class=\"sk-text-repr-fallback\"><pre>GridSearchCV(cv=10, estimator=DecisionTreeClassifier(),\n             param_grid={&#x27;criterion&#x27;: [&#x27;gini&#x27;, &#x27;entropy&#x27;],\n                         &#x27;max_depth&#x27;: [10, 21],\n                         &#x27;min_samples_leaf&#x27;: [1, 5, 10, 20, 50, 100]},\n             return_train_score=True, scoring=&#x27;accuracy&#x27;)</pre><b>In a Jupyter environment, please rerun this cell to show the HTML representation or trust the notebook. <br />On GitHub, the HTML representation is unable to render, please try loading this page with nbviewer.org.</b></div><div class=\"sk-container\" hidden><div class=\"sk-item sk-dashed-wrapped\"><div class=\"sk-label-container\"><div class=\"sk-label sk-toggleable\"><input class=\"sk-toggleable__control sk-hidden--visually\" id=\"sk-estimator-id-1\" type=\"checkbox\" ><label for=\"sk-estimator-id-1\" class=\"sk-toggleable__label sk-toggleable__label-arrow\">GridSearchCV</label><div class=\"sk-toggleable__content\"><pre>GridSearchCV(cv=10, estimator=DecisionTreeClassifier(),\n             param_grid={&#x27;criterion&#x27;: [&#x27;gini&#x27;, &#x27;entropy&#x27;],\n                         &#x27;max_depth&#x27;: [10, 21],\n                         &#x27;min_samples_leaf&#x27;: [1, 5, 10, 20, 50, 100]},\n             return_train_score=True, scoring=&#x27;accuracy&#x27;)</pre></div></div></div><div class=\"sk-parallel\"><div class=\"sk-parallel-item\"><div class=\"sk-item\"><div class=\"sk-label-container\"><div class=\"sk-label sk-toggleable\"><input class=\"sk-toggleable__control sk-hidden--visually\" id=\"sk-estimator-id-2\" type=\"checkbox\" ><label for=\"sk-estimator-id-2\" class=\"sk-toggleable__label sk-toggleable__label-arrow\">estimator: DecisionTreeClassifier</label><div class=\"sk-toggleable__content\"><pre>DecisionTreeClassifier()</pre></div></div></div><div class=\"sk-serial\"><div class=\"sk-item\"><div class=\"sk-estimator sk-toggleable\"><input class=\"sk-toggleable__control sk-hidden--visually\" id=\"sk-estimator-id-3\" type=\"checkbox\" ><label for=\"sk-estimator-id-3\" class=\"sk-toggleable__label sk-toggleable__label-arrow\">DecisionTreeClassifier</label><div class=\"sk-toggleable__content\"><pre>DecisionTreeClassifier()</pre></div></div></div></div></div></div></div></div></div></div>"
     },
     "execution_count": 58,
     "metadata": {},
     "output_type": "execute_result"
    }
   ],
   "source": [
    "from sklearn.model_selection import GridSearchCV\n",
    "\n",
    "param_grid = {\n",
    "    'criterion': ['gini', 'entropy'],\n",
    "    'max_depth': [10, 21],\n",
    "    'min_samples_leaf': [1, 5, 10, 20, 50, 100]\n",
    "}\n",
    "\n",
    "dt = DecisionTreeClassifier()\n",
    "grid_search = GridSearchCV(dt, param_grid, cv=10, scoring=\"accuracy\", return_train_score=True)\n",
    "grid_search.fit(x_train, y_train)"
   ],
   "metadata": {
    "collapsed": false,
    "pycharm": {
     "name": "#%%\n"
    }
   }
  },
  {
   "cell_type": "code",
   "execution_count": 60,
   "outputs": [
    {
     "name": "stdout",
     "output_type": "stream",
     "text": [
      "0.8326605504587156\n"
     ]
    }
   ],
   "source": [
    "best_dt = grid_search.best_estimator_\n",
    "\n",
    "accuracy = metrics.accuracy_score(y_test, best_dt.predict(x_test))\n",
    "print(accuracy)"
   ],
   "metadata": {
    "collapsed": false,
    "pycharm": {
     "name": "#%%\n"
    }
   }
  },
  {
   "cell_type": "code",
   "execution_count": 61,
   "outputs": [],
   "source": [
    "accuracy_lst.append(accuracy)"
   ],
   "metadata": {
    "collapsed": false,
    "pycharm": {
     "name": "#%%\n"
    }
   }
  },
  {
   "cell_type": "code",
   "execution_count": 62,
   "outputs": [
    {
     "name": "stdout",
     "output_type": "stream",
     "text": [
      "[0.8271559633027523, 0.8326605504587156]\n"
     ]
    }
   ],
   "source": [
    "print(accuracy_lst)\n"
   ],
   "metadata": {
    "collapsed": false,
    "pycharm": {
     "name": "#%%\n"
    }
   }
  },
  {
   "cell_type": "code",
   "execution_count": 63,
   "outputs": [],
   "source": [
    "model_arr = ['LogisticRegression', 'DecisionTreeClassifier']"
   ],
   "metadata": {
    "collapsed": false,
    "pycharm": {
     "name": "#%%\n"
    }
   }
  },
  {
   "cell_type": "code",
   "execution_count": 64,
   "outputs": [
    {
     "data": {
      "text/plain": "GridSearchCV(cv=10, estimator=RandomForestClassifier(random_state=42),\n             param_grid={'criterion': ['gini', 'entropy'],\n                         'max_depth': [10, 21],\n                         'min_samples_leaf': [1, 5, 10, 20, 50, 100],\n                         'n_estimators': [20]},\n             return_train_score=True, scoring='accuracy')",
      "text/html": "<style>#sk-container-id-2 {color: black;background-color: white;}#sk-container-id-2 pre{padding: 0;}#sk-container-id-2 div.sk-toggleable {background-color: white;}#sk-container-id-2 label.sk-toggleable__label {cursor: pointer;display: block;width: 100%;margin-bottom: 0;padding: 0.3em;box-sizing: border-box;text-align: center;}#sk-container-id-2 label.sk-toggleable__label-arrow:before {content: \"▸\";float: left;margin-right: 0.25em;color: #696969;}#sk-container-id-2 label.sk-toggleable__label-arrow:hover:before {color: black;}#sk-container-id-2 div.sk-estimator:hover label.sk-toggleable__label-arrow:before {color: black;}#sk-container-id-2 div.sk-toggleable__content {max-height: 0;max-width: 0;overflow: hidden;text-align: left;background-color: #f0f8ff;}#sk-container-id-2 div.sk-toggleable__content pre {margin: 0.2em;color: black;border-radius: 0.25em;background-color: #f0f8ff;}#sk-container-id-2 input.sk-toggleable__control:checked~div.sk-toggleable__content {max-height: 200px;max-width: 100%;overflow: auto;}#sk-container-id-2 input.sk-toggleable__control:checked~label.sk-toggleable__label-arrow:before {content: \"▾\";}#sk-container-id-2 div.sk-estimator input.sk-toggleable__control:checked~label.sk-toggleable__label {background-color: #d4ebff;}#sk-container-id-2 div.sk-label input.sk-toggleable__control:checked~label.sk-toggleable__label {background-color: #d4ebff;}#sk-container-id-2 input.sk-hidden--visually {border: 0;clip: rect(1px 1px 1px 1px);clip: rect(1px, 1px, 1px, 1px);height: 1px;margin: -1px;overflow: hidden;padding: 0;position: absolute;width: 1px;}#sk-container-id-2 div.sk-estimator {font-family: monospace;background-color: #f0f8ff;border: 1px dotted black;border-radius: 0.25em;box-sizing: border-box;margin-bottom: 0.5em;}#sk-container-id-2 div.sk-estimator:hover {background-color: #d4ebff;}#sk-container-id-2 div.sk-parallel-item::after {content: \"\";width: 100%;border-bottom: 1px solid gray;flex-grow: 1;}#sk-container-id-2 div.sk-label:hover label.sk-toggleable__label {background-color: #d4ebff;}#sk-container-id-2 div.sk-serial::before {content: \"\";position: absolute;border-left: 1px solid gray;box-sizing: border-box;top: 0;bottom: 0;left: 50%;z-index: 0;}#sk-container-id-2 div.sk-serial {display: flex;flex-direction: column;align-items: center;background-color: white;padding-right: 0.2em;padding-left: 0.2em;position: relative;}#sk-container-id-2 div.sk-item {position: relative;z-index: 1;}#sk-container-id-2 div.sk-parallel {display: flex;align-items: stretch;justify-content: center;background-color: white;position: relative;}#sk-container-id-2 div.sk-item::before, #sk-container-id-2 div.sk-parallel-item::before {content: \"\";position: absolute;border-left: 1px solid gray;box-sizing: border-box;top: 0;bottom: 0;left: 50%;z-index: -1;}#sk-container-id-2 div.sk-parallel-item {display: flex;flex-direction: column;z-index: 1;position: relative;background-color: white;}#sk-container-id-2 div.sk-parallel-item:first-child::after {align-self: flex-end;width: 50%;}#sk-container-id-2 div.sk-parallel-item:last-child::after {align-self: flex-start;width: 50%;}#sk-container-id-2 div.sk-parallel-item:only-child::after {width: 0;}#sk-container-id-2 div.sk-dashed-wrapped {border: 1px dashed gray;margin: 0 0.4em 0.5em 0.4em;box-sizing: border-box;padding-bottom: 0.4em;background-color: white;}#sk-container-id-2 div.sk-label label {font-family: monospace;font-weight: bold;display: inline-block;line-height: 1.2em;}#sk-container-id-2 div.sk-label-container {text-align: center;}#sk-container-id-2 div.sk-container {/* jupyter's `normalize.less` sets `[hidden] { display: none; }` but bootstrap.min.css set `[hidden] { display: none !important; }` so we also need the `!important` here to be able to override the default hidden behavior on the sphinx rendered scikit-learn.org. See: https://github.com/scikit-learn/scikit-learn/issues/21755 */display: inline-block !important;position: relative;}#sk-container-id-2 div.sk-text-repr-fallback {display: none;}</style><div id=\"sk-container-id-2\" class=\"sk-top-container\"><div class=\"sk-text-repr-fallback\"><pre>GridSearchCV(cv=10, estimator=RandomForestClassifier(random_state=42),\n             param_grid={&#x27;criterion&#x27;: [&#x27;gini&#x27;, &#x27;entropy&#x27;],\n                         &#x27;max_depth&#x27;: [10, 21],\n                         &#x27;min_samples_leaf&#x27;: [1, 5, 10, 20, 50, 100],\n                         &#x27;n_estimators&#x27;: [20]},\n             return_train_score=True, scoring=&#x27;accuracy&#x27;)</pre><b>In a Jupyter environment, please rerun this cell to show the HTML representation or trust the notebook. <br />On GitHub, the HTML representation is unable to render, please try loading this page with nbviewer.org.</b></div><div class=\"sk-container\" hidden><div class=\"sk-item sk-dashed-wrapped\"><div class=\"sk-label-container\"><div class=\"sk-label sk-toggleable\"><input class=\"sk-toggleable__control sk-hidden--visually\" id=\"sk-estimator-id-4\" type=\"checkbox\" ><label for=\"sk-estimator-id-4\" class=\"sk-toggleable__label sk-toggleable__label-arrow\">GridSearchCV</label><div class=\"sk-toggleable__content\"><pre>GridSearchCV(cv=10, estimator=RandomForestClassifier(random_state=42),\n             param_grid={&#x27;criterion&#x27;: [&#x27;gini&#x27;, &#x27;entropy&#x27;],\n                         &#x27;max_depth&#x27;: [10, 21],\n                         &#x27;min_samples_leaf&#x27;: [1, 5, 10, 20, 50, 100],\n                         &#x27;n_estimators&#x27;: [20]},\n             return_train_score=True, scoring=&#x27;accuracy&#x27;)</pre></div></div></div><div class=\"sk-parallel\"><div class=\"sk-parallel-item\"><div class=\"sk-item\"><div class=\"sk-label-container\"><div class=\"sk-label sk-toggleable\"><input class=\"sk-toggleable__control sk-hidden--visually\" id=\"sk-estimator-id-5\" type=\"checkbox\" ><label for=\"sk-estimator-id-5\" class=\"sk-toggleable__label sk-toggleable__label-arrow\">estimator: RandomForestClassifier</label><div class=\"sk-toggleable__content\"><pre>RandomForestClassifier(random_state=42)</pre></div></div></div><div class=\"sk-serial\"><div class=\"sk-item\"><div class=\"sk-estimator sk-toggleable\"><input class=\"sk-toggleable__control sk-hidden--visually\" id=\"sk-estimator-id-6\" type=\"checkbox\" ><label for=\"sk-estimator-id-6\" class=\"sk-toggleable__label sk-toggleable__label-arrow\">RandomForestClassifier</label><div class=\"sk-toggleable__content\"><pre>RandomForestClassifier(random_state=42)</pre></div></div></div></div></div></div></div></div></div></div>"
     },
     "execution_count": 64,
     "metadata": {},
     "output_type": "execute_result"
    }
   ],
   "source": [
    "rf_clf = RandomForestClassifier(random_state=42)\n",
    "\n",
    "param_grid = {\n",
    "    'n_estimators': [20],\n",
    "    'criterion': ['gini', 'entropy'],\n",
    "    'max_depth': [10, 21],\n",
    "    'min_samples_leaf': [1, 5, 10, 20, 50, 100]\n",
    "}\n",
    "\n",
    "grid_search = GridSearchCV(rf_clf, param_grid, cv=10, scoring='accuracy', return_train_score=True)\n",
    "grid_search.fit(x_train, y_train)"
   ],
   "metadata": {
    "collapsed": false,
    "pycharm": {
     "name": "#%%\n"
    }
   }
  },
  {
   "cell_type": "code",
   "execution_count": 65,
   "outputs": [
    {
     "name": "stdout",
     "output_type": "stream",
     "text": [
      "[0.8271559633027523, 0.8326605504587156, 0.8392660550458716]\n"
     ]
    }
   ],
   "source": [
    "best_rf = grid_search.best_estimator_\n",
    "accuracy = metrics.accuracy_score(y_test, best_rf.predict(x_test))\n",
    "accuracy_lst.append(accuracy)\n",
    "print(accuracy_lst)\n",
    "model_arr.append('RandomForestClassifier')\n"
   ],
   "metadata": {
    "collapsed": false,
    "pycharm": {
     "name": "#%%\n"
    }
   }
  },
  {
   "cell_type": "code",
   "execution_count": 66,
   "outputs": [
    {
     "name": "stdout",
     "output_type": "stream",
     "text": [
      "0.9773960216998192\n"
     ]
    }
   ],
   "source": [
    "print(metrics.accuracy_score(y_train, best_rf.predict(x_train)))"
   ],
   "metadata": {
    "collapsed": false,
    "pycharm": {
     "name": "#%%\n"
    }
   }
  },
  {
   "cell_type": "code",
   "execution_count": null,
   "outputs": [],
   "source": [
    "\n",
    "sv_clf = SVC(random_state=42, kernel='linear')\n",
    "sv_clf.fit(x_train, y_train)\n",
    "\n",
    "accuracy = metrics.accuracy_score(y_test, sv_clf.predict(x_test))\n",
    "accuracy_lst.append(accuracy)\n",
    "model_arr.append('SVC')\n",
    "print(accuracy_lst)"
   ],
   "metadata": {
    "collapsed": false,
    "pycharm": {
     "name": "#%%\n"
    }
   }
  },
  {
   "cell_type": "code",
   "execution_count": null,
   "outputs": [],
   "source": [
    "X.info"
   ],
   "metadata": {
    "collapsed": false,
    "pycharm": {
     "name": "#%%\n"
    }
   }
  },
  {
   "cell_type": "code",
   "execution_count": 1,
   "outputs": [
    {
     "name": "stdout",
     "output_type": "stream",
     "text": [
      "fuck\n"
     ]
    }
   ],
   "source": [
    "print(\"fuck\")"
   ],
   "metadata": {
    "collapsed": false,
    "pycharm": {
     "name": "#%%\n"
    }
   }
  },
  {
   "cell_type": "code",
   "execution_count": null,
   "outputs": [],
   "source": [],
   "metadata": {
    "collapsed": false,
    "pycharm": {
     "name": "#%%\n"
    }
   }
  }
 ],
 "metadata": {
  "kernelspec": {
   "display_name": "Python 3",
   "language": "python",
   "name": "python3"
  },
  "language_info": {
   "codemirror_mode": {
    "name": "ipython",
    "version": 2
   },
   "file_extension": ".py",
   "mimetype": "text/x-python",
   "name": "python",
   "nbconvert_exporter": "python",
   "pygments_lexer": "ipython2",
   "version": "2.7.6"
  }
 },
 "nbformat": 4,
 "nbformat_minor": 0
}